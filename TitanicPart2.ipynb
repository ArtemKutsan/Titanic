{
 "cells": [
  {
   "cell_type": "code",
   "execution_count": 24,
   "metadata": {},
   "outputs": [],
   "source": [
    "# Импорт библиотек для анализа данных\n",
    "import pandas as pd\n",
    "# import numpy as np"
   ]
  },
  {
   "cell_type": "code",
   "execution_count": 25,
   "metadata": {},
   "outputs": [],
   "source": [
    "# Загрузка данных\n",
    "full_df = pd.read_csv('data/titanic_full_cleared_v2.csv', header=0)"
   ]
  },
  {
   "cell_type": "code",
   "execution_count": 26,
   "metadata": {},
   "outputs": [],
   "source": [
    "# Преобразование к int8\n",
    "full_df = full_df.astype('int8')"
   ]
  },
  {
   "cell_type": "code",
   "execution_count": 27,
   "metadata": {},
   "outputs": [],
   "source": [
    "# Настройки вывода\n",
    "# Метод вывода для объекта pd.DataFrame\n",
    "def _repr_html_styled_(self):\n",
    "    styled_data = self.style.set_table_styles([\n",
    "        {\n",
    "            # Заголовки таблиц и индексы\n",
    "            'selector': 'th', \n",
    "            'props': [\n",
    "                ('font-family', 'Cascadia Mono PL SemiLight'),  # шрифт \n",
    "                ('font-weight', 'normal'),                      # толщина текста\n",
    "                ('color', '#fac863'),                           # цвет текста\n",
    "                ('opacity', '1'),                               # прозрачность текста\n",
    "                ('background-color', '#143241'),                # цфет фона\n",
    "                ('padding', '5px'),                             # отступы                \n",
    "             ]\n",
    "        },\n",
    "        {\n",
    "            # Стиль для индексов\n",
    "            'selector': '.row_heading',\n",
    "            'props': [\n",
    "                ('color', '#fac863'),\n",
    "            ]\n",
    "        },\n",
    "        {\n",
    "            # Содержимое ячеек\n",
    "            'selector': 'td', \n",
    "            'props': [\n",
    "                ('font-family', 'Cascadia Mono PL Light'), \n",
    "                ('padding', '5px')\n",
    "            ]\n",
    "        },\n",
    "        {\n",
    "            # Четные строки содержимого таблицы\n",
    "            'selector': 'tbody tr:nth-child(even)', \n",
    "            'props': [\n",
    "                ('background-color', '#ffffff00')  # нет цвета (\"прозрачные\")\n",
    "            ]\n",
    "        },\n",
    "        {\n",
    "            # Цвет фона для нечетных строк (начиная со строки заголовка)\n",
    "            'selector': 'tr:nth-of-type(odd)', \n",
    "            'props': [\n",
    "                ('background-color', '#ffffff0a')\n",
    "            ]\n",
    "        },\n",
    "        {\n",
    "            # Стиль для индексов\n",
    "            'selector': '.row_heading',\n",
    "            'props': [\n",
    "                ('color', '#ffffff5a'),\n",
    "            ]\n",
    "        },\n",
    "        {\n",
    "            # Hover эффект для ячейки\n",
    "            'selector': 'td:hover',\n",
    "            'props': [\n",
    "                ('background-color', '#ffffff14'),\n",
    "            ]\n",
    "        },\n",
    "          \n",
    "    ])\n",
    "\n",
    "    return styled_data._repr_html_() # возврат HTML-представления стилизованных данных\n",
    "\n",
    "\n",
    "# Переопределение метода вывода объекта pd.DataFrame\n",
    "pd.DataFrame._repr_html_ = _repr_html_styled_"
   ]
  },
  {
   "cell_type": "code",
   "execution_count": 28,
   "metadata": {},
   "outputs": [
    {
     "data": {
      "text/html": [
       "<style type=\"text/css\">\n",
       "#T_140af th {\n",
       "  font-family: Cascadia Mono PL SemiLight;\n",
       "  font-weight: normal;\n",
       "  color: #fac863;\n",
       "  opacity: 1;\n",
       "  background-color: #143241;\n",
       "  padding: 5px;\n",
       "}\n",
       "#T_140af .row_heading {\n",
       "  color: #fac863;\n",
       "}\n",
       "#T_140af td {\n",
       "  font-family: Cascadia Mono PL Light;\n",
       "  padding: 5px;\n",
       "}\n",
       "#T_140af tbody tr:nth-child(even) {\n",
       "  background-color: #ffffff00;\n",
       "}\n",
       "#T_140af tr:nth-of-type(odd) {\n",
       "  background-color: #ffffff0a;\n",
       "}\n",
       "#T_140af .row_heading {\n",
       "  color: #ffffff5a;\n",
       "}\n",
       "#T_140af td:hover {\n",
       "  background-color: #ffffff14;\n",
       "}\n",
       "</style>\n",
       "<table id=\"T_140af\">\n",
       "  <thead>\n",
       "    <tr>\n",
       "      <th class=\"blank level0\" >&nbsp;</th>\n",
       "      <th id=\"T_140af_level0_col0\" class=\"col_heading level0 col0\" >Survived</th>\n",
       "      <th id=\"T_140af_level0_col1\" class=\"col_heading level0 col1\" >Pclass</th>\n",
       "      <th id=\"T_140af_level0_col2\" class=\"col_heading level0 col2\" >Sex</th>\n",
       "      <th id=\"T_140af_level0_col3\" class=\"col_heading level0 col3\" >Age</th>\n",
       "      <th id=\"T_140af_level0_col4\" class=\"col_heading level0 col4\" >Fare</th>\n",
       "      <th id=\"T_140af_level0_col5\" class=\"col_heading level0 col5\" >Embarked</th>\n",
       "      <th id=\"T_140af_level0_col6\" class=\"col_heading level0 col6\" >Title</th>\n",
       "      <th id=\"T_140af_level0_col7\" class=\"col_heading level0 col7\" >CategoricalAge</th>\n",
       "      <th id=\"T_140af_level0_col8\" class=\"col_heading level0 col8\" >WomanWithKid</th>\n",
       "      <th id=\"T_140af_level0_col9\" class=\"col_heading level0 col9\" >PersonsInTicket</th>\n",
       "      <th id=\"T_140af_level0_col10\" class=\"col_heading level0 col10\" >Cost</th>\n",
       "      <th id=\"T_140af_level0_col11\" class=\"col_heading level0 col11\" >FareLog</th>\n",
       "      <th id=\"T_140af_level0_col12\" class=\"col_heading level0 col12\" >CostLog</th>\n",
       "      <th id=\"T_140af_level0_col13\" class=\"col_heading level0 col13\" >CategoricalFare</th>\n",
       "      <th id=\"T_140af_level0_col14\" class=\"col_heading level0 col14\" >CategoricalCost</th>\n",
       "    </tr>\n",
       "  </thead>\n",
       "  <tbody>\n",
       "    <tr>\n",
       "      <th id=\"T_140af_level0_row0\" class=\"row_heading level0 row0\" >0</th>\n",
       "      <td id=\"T_140af_row0_col0\" class=\"data row0 col0\" >0</td>\n",
       "      <td id=\"T_140af_row0_col1\" class=\"data row0 col1\" >3</td>\n",
       "      <td id=\"T_140af_row0_col2\" class=\"data row0 col2\" >0</td>\n",
       "      <td id=\"T_140af_row0_col3\" class=\"data row0 col3\" >22</td>\n",
       "      <td id=\"T_140af_row0_col4\" class=\"data row0 col4\" >7</td>\n",
       "      <td id=\"T_140af_row0_col5\" class=\"data row0 col5\" >1</td>\n",
       "      <td id=\"T_140af_row0_col6\" class=\"data row0 col6\" >1</td>\n",
       "      <td id=\"T_140af_row0_col7\" class=\"data row0 col7\" >2</td>\n",
       "      <td id=\"T_140af_row0_col8\" class=\"data row0 col8\" >0</td>\n",
       "      <td id=\"T_140af_row0_col9\" class=\"data row0 col9\" >1</td>\n",
       "      <td id=\"T_140af_row0_col10\" class=\"data row0 col10\" >7</td>\n",
       "      <td id=\"T_140af_row0_col11\" class=\"data row0 col11\" >3</td>\n",
       "      <td id=\"T_140af_row0_col12\" class=\"data row0 col12\" >3</td>\n",
       "      <td id=\"T_140af_row0_col13\" class=\"data row0 col13\" >1</td>\n",
       "      <td id=\"T_140af_row0_col14\" class=\"data row0 col14\" >7</td>\n",
       "    </tr>\n",
       "    <tr>\n",
       "      <th id=\"T_140af_level0_row1\" class=\"row_heading level0 row1\" >1</th>\n",
       "      <td id=\"T_140af_row1_col0\" class=\"data row1 col0\" >1</td>\n",
       "      <td id=\"T_140af_row1_col1\" class=\"data row1 col1\" >1</td>\n",
       "      <td id=\"T_140af_row1_col2\" class=\"data row1 col2\" >1</td>\n",
       "      <td id=\"T_140af_row1_col3\" class=\"data row1 col3\" >38</td>\n",
       "      <td id=\"T_140af_row1_col4\" class=\"data row1 col4\" >71</td>\n",
       "      <td id=\"T_140af_row1_col5\" class=\"data row1 col5\" >2</td>\n",
       "      <td id=\"T_140af_row1_col6\" class=\"data row1 col6\" >4</td>\n",
       "      <td id=\"T_140af_row1_col7\" class=\"data row1 col7\" >3</td>\n",
       "      <td id=\"T_140af_row1_col8\" class=\"data row1 col8\" >0</td>\n",
       "      <td id=\"T_140af_row1_col9\" class=\"data row1 col9\" >2</td>\n",
       "      <td id=\"T_140af_row1_col10\" class=\"data row1 col10\" >36</td>\n",
       "      <td id=\"T_140af_row1_col11\" class=\"data row1 col11\" >6</td>\n",
       "      <td id=\"T_140af_row1_col12\" class=\"data row1 col12\" >5</td>\n",
       "      <td id=\"T_140af_row1_col13\" class=\"data row1 col13\" >4</td>\n",
       "      <td id=\"T_140af_row1_col14\" class=\"data row1 col14\" >2</td>\n",
       "    </tr>\n",
       "    <tr>\n",
       "      <th id=\"T_140af_level0_row2\" class=\"row_heading level0 row2\" >2</th>\n",
       "      <td id=\"T_140af_row2_col0\" class=\"data row2 col0\" >1</td>\n",
       "      <td id=\"T_140af_row2_col1\" class=\"data row2 col1\" >3</td>\n",
       "      <td id=\"T_140af_row2_col2\" class=\"data row2 col2\" >1</td>\n",
       "      <td id=\"T_140af_row2_col3\" class=\"data row2 col3\" >26</td>\n",
       "      <td id=\"T_140af_row2_col4\" class=\"data row2 col4\" >8</td>\n",
       "      <td id=\"T_140af_row2_col5\" class=\"data row2 col5\" >1</td>\n",
       "      <td id=\"T_140af_row2_col6\" class=\"data row2 col6\" >2</td>\n",
       "      <td id=\"T_140af_row2_col7\" class=\"data row2 col7\" >2</td>\n",
       "      <td id=\"T_140af_row2_col8\" class=\"data row2 col8\" >0</td>\n",
       "      <td id=\"T_140af_row2_col9\" class=\"data row2 col9\" >1</td>\n",
       "      <td id=\"T_140af_row2_col10\" class=\"data row2 col10\" >8</td>\n",
       "      <td id=\"T_140af_row2_col11\" class=\"data row2 col11\" >3</td>\n",
       "      <td id=\"T_140af_row2_col12\" class=\"data row2 col12\" >3</td>\n",
       "      <td id=\"T_140af_row2_col13\" class=\"data row2 col13\" >1</td>\n",
       "      <td id=\"T_140af_row2_col14\" class=\"data row2 col14\" >8</td>\n",
       "    </tr>\n",
       "    <tr>\n",
       "      <th id=\"T_140af_level0_row3\" class=\"row_heading level0 row3\" >3</th>\n",
       "      <td id=\"T_140af_row3_col0\" class=\"data row3 col0\" >1</td>\n",
       "      <td id=\"T_140af_row3_col1\" class=\"data row3 col1\" >1</td>\n",
       "      <td id=\"T_140af_row3_col2\" class=\"data row3 col2\" >1</td>\n",
       "      <td id=\"T_140af_row3_col3\" class=\"data row3 col3\" >35</td>\n",
       "      <td id=\"T_140af_row3_col4\" class=\"data row3 col4\" >53</td>\n",
       "      <td id=\"T_140af_row3_col5\" class=\"data row3 col5\" >1</td>\n",
       "      <td id=\"T_140af_row3_col6\" class=\"data row3 col6\" >4</td>\n",
       "      <td id=\"T_140af_row3_col7\" class=\"data row3 col7\" >3</td>\n",
       "      <td id=\"T_140af_row3_col8\" class=\"data row3 col8\" >0</td>\n",
       "      <td id=\"T_140af_row3_col9\" class=\"data row3 col9\" >2</td>\n",
       "      <td id=\"T_140af_row3_col10\" class=\"data row3 col10\" >27</td>\n",
       "      <td id=\"T_140af_row3_col11\" class=\"data row3 col11\" >5</td>\n",
       "      <td id=\"T_140af_row3_col12\" class=\"data row3 col12\" >4</td>\n",
       "      <td id=\"T_140af_row3_col13\" class=\"data row3 col13\" >4</td>\n",
       "      <td id=\"T_140af_row3_col14\" class=\"data row3 col14\" >1</td>\n",
       "    </tr>\n",
       "    <tr>\n",
       "      <th id=\"T_140af_level0_row4\" class=\"row_heading level0 row4\" >4</th>\n",
       "      <td id=\"T_140af_row4_col0\" class=\"data row4 col0\" >0</td>\n",
       "      <td id=\"T_140af_row4_col1\" class=\"data row4 col1\" >3</td>\n",
       "      <td id=\"T_140af_row4_col2\" class=\"data row4 col2\" >0</td>\n",
       "      <td id=\"T_140af_row4_col3\" class=\"data row4 col3\" >35</td>\n",
       "      <td id=\"T_140af_row4_col4\" class=\"data row4 col4\" >8</td>\n",
       "      <td id=\"T_140af_row4_col5\" class=\"data row4 col5\" >1</td>\n",
       "      <td id=\"T_140af_row4_col6\" class=\"data row4 col6\" >1</td>\n",
       "      <td id=\"T_140af_row4_col7\" class=\"data row4 col7\" >3</td>\n",
       "      <td id=\"T_140af_row4_col8\" class=\"data row4 col8\" >0</td>\n",
       "      <td id=\"T_140af_row4_col9\" class=\"data row4 col9\" >1</td>\n",
       "      <td id=\"T_140af_row4_col10\" class=\"data row4 col10\" >8</td>\n",
       "      <td id=\"T_140af_row4_col11\" class=\"data row4 col11\" >3</td>\n",
       "      <td id=\"T_140af_row4_col12\" class=\"data row4 col12\" >3</td>\n",
       "      <td id=\"T_140af_row4_col13\" class=\"data row4 col13\" >1</td>\n",
       "      <td id=\"T_140af_row4_col14\" class=\"data row4 col14\" >8</td>\n",
       "    </tr>\n",
       "  </tbody>\n",
       "</table>\n"
      ],
      "text/plain": [
       "   Survived  Pclass  Sex  Age  Fare  Embarked  Title  CategoricalAge   \n",
       "0         0       3    0   22     7         1      1               2  \\\n",
       "1         1       1    1   38    71         2      4               3   \n",
       "2         1       3    1   26     8         1      2               2   \n",
       "3         1       1    1   35    53         1      4               3   \n",
       "4         0       3    0   35     8         1      1               3   \n",
       "\n",
       "   WomanWithKid  PersonsInTicket  Cost  FareLog  CostLog  CategoricalFare   \n",
       "0             0                1     7        3        3                1  \\\n",
       "1             0                2    36        6        5                4   \n",
       "2             0                1     8        3        3                1   \n",
       "3             0                2    27        5        4                4   \n",
       "4             0                1     8        3        3                1   \n",
       "\n",
       "   CategoricalCost  \n",
       "0                7  \n",
       "1                2  \n",
       "2                8  \n",
       "3                1  \n",
       "4                8  "
      ]
     },
     "execution_count": 28,
     "metadata": {},
     "output_type": "execute_result"
    }
   ],
   "source": [
    "# Полный набор данных\n",
    "full_df.head()"
   ]
  },
  {
   "cell_type": "code",
   "execution_count": 29,
   "metadata": {},
   "outputs": [],
   "source": [
    "# Перемешиваем данные\n",
    "# full_df = full_df.sample(frac=1).reset_index(drop=True)"
   ]
  },
  {
   "cell_type": "code",
   "execution_count": 30,
   "metadata": {},
   "outputs": [],
   "source": [
    "# Удаление признаков которые негативно отразились на результатах предсказания\n",
    "# df = full_df.drop(['SibSp', 'PersonsInTicket', 'FamilySize', 'Cost', 'IsAlone', 'Fare', 'Parch', 'Sex'], axis = 1)\n",
    "df = full_df.drop(['Fare', 'PersonsInTicket', 'Age', 'Cost', 'CategoricalFare', 'WomanWithKid', 'CategoricalCost', 'CategoricalAge', 'CostLog', 'FareLog'], axis = 1)"
   ]
  },
  {
   "cell_type": "code",
   "execution_count": 31,
   "metadata": {},
   "outputs": [
    {
     "data": {
      "text/html": [
       "<style type=\"text/css\">\n",
       "#T_83e9c th {\n",
       "  font-family: Cascadia Mono PL SemiLight;\n",
       "  font-weight: normal;\n",
       "  color: #fac863;\n",
       "  opacity: 1;\n",
       "  background-color: #143241;\n",
       "  padding: 5px;\n",
       "}\n",
       "#T_83e9c .row_heading {\n",
       "  color: #fac863;\n",
       "}\n",
       "#T_83e9c td {\n",
       "  font-family: Cascadia Mono PL Light;\n",
       "  padding: 5px;\n",
       "}\n",
       "#T_83e9c tbody tr:nth-child(even) {\n",
       "  background-color: #ffffff00;\n",
       "}\n",
       "#T_83e9c tr:nth-of-type(odd) {\n",
       "  background-color: #ffffff0a;\n",
       "}\n",
       "#T_83e9c .row_heading {\n",
       "  color: #ffffff5a;\n",
       "}\n",
       "#T_83e9c td:hover {\n",
       "  background-color: #ffffff14;\n",
       "}\n",
       "</style>\n",
       "<table id=\"T_83e9c\">\n",
       "  <thead>\n",
       "    <tr>\n",
       "      <th class=\"blank level0\" >&nbsp;</th>\n",
       "      <th id=\"T_83e9c_level0_col0\" class=\"col_heading level0 col0\" >Survived</th>\n",
       "      <th id=\"T_83e9c_level0_col1\" class=\"col_heading level0 col1\" >Pclass</th>\n",
       "      <th id=\"T_83e9c_level0_col2\" class=\"col_heading level0 col2\" >Sex</th>\n",
       "      <th id=\"T_83e9c_level0_col3\" class=\"col_heading level0 col3\" >Embarked</th>\n",
       "      <th id=\"T_83e9c_level0_col4\" class=\"col_heading level0 col4\" >Title</th>\n",
       "    </tr>\n",
       "  </thead>\n",
       "  <tbody>\n",
       "    <tr>\n",
       "      <th id=\"T_83e9c_level0_row0\" class=\"row_heading level0 row0\" >0</th>\n",
       "      <td id=\"T_83e9c_row0_col0\" class=\"data row0 col0\" >0</td>\n",
       "      <td id=\"T_83e9c_row0_col1\" class=\"data row0 col1\" >3</td>\n",
       "      <td id=\"T_83e9c_row0_col2\" class=\"data row0 col2\" >0</td>\n",
       "      <td id=\"T_83e9c_row0_col3\" class=\"data row0 col3\" >1</td>\n",
       "      <td id=\"T_83e9c_row0_col4\" class=\"data row0 col4\" >1</td>\n",
       "    </tr>\n",
       "    <tr>\n",
       "      <th id=\"T_83e9c_level0_row1\" class=\"row_heading level0 row1\" >1</th>\n",
       "      <td id=\"T_83e9c_row1_col0\" class=\"data row1 col0\" >1</td>\n",
       "      <td id=\"T_83e9c_row1_col1\" class=\"data row1 col1\" >1</td>\n",
       "      <td id=\"T_83e9c_row1_col2\" class=\"data row1 col2\" >1</td>\n",
       "      <td id=\"T_83e9c_row1_col3\" class=\"data row1 col3\" >2</td>\n",
       "      <td id=\"T_83e9c_row1_col4\" class=\"data row1 col4\" >4</td>\n",
       "    </tr>\n",
       "    <tr>\n",
       "      <th id=\"T_83e9c_level0_row2\" class=\"row_heading level0 row2\" >2</th>\n",
       "      <td id=\"T_83e9c_row2_col0\" class=\"data row2 col0\" >1</td>\n",
       "      <td id=\"T_83e9c_row2_col1\" class=\"data row2 col1\" >3</td>\n",
       "      <td id=\"T_83e9c_row2_col2\" class=\"data row2 col2\" >1</td>\n",
       "      <td id=\"T_83e9c_row2_col3\" class=\"data row2 col3\" >1</td>\n",
       "      <td id=\"T_83e9c_row2_col4\" class=\"data row2 col4\" >2</td>\n",
       "    </tr>\n",
       "    <tr>\n",
       "      <th id=\"T_83e9c_level0_row3\" class=\"row_heading level0 row3\" >3</th>\n",
       "      <td id=\"T_83e9c_row3_col0\" class=\"data row3 col0\" >1</td>\n",
       "      <td id=\"T_83e9c_row3_col1\" class=\"data row3 col1\" >1</td>\n",
       "      <td id=\"T_83e9c_row3_col2\" class=\"data row3 col2\" >1</td>\n",
       "      <td id=\"T_83e9c_row3_col3\" class=\"data row3 col3\" >1</td>\n",
       "      <td id=\"T_83e9c_row3_col4\" class=\"data row3 col4\" >4</td>\n",
       "    </tr>\n",
       "    <tr>\n",
       "      <th id=\"T_83e9c_level0_row4\" class=\"row_heading level0 row4\" >4</th>\n",
       "      <td id=\"T_83e9c_row4_col0\" class=\"data row4 col0\" >0</td>\n",
       "      <td id=\"T_83e9c_row4_col1\" class=\"data row4 col1\" >3</td>\n",
       "      <td id=\"T_83e9c_row4_col2\" class=\"data row4 col2\" >0</td>\n",
       "      <td id=\"T_83e9c_row4_col3\" class=\"data row4 col3\" >1</td>\n",
       "      <td id=\"T_83e9c_row4_col4\" class=\"data row4 col4\" >1</td>\n",
       "    </tr>\n",
       "  </tbody>\n",
       "</table>\n"
      ],
      "text/plain": [
       "   Survived  Pclass  Sex  Embarked  Title\n",
       "0         0       3    0         1      1\n",
       "1         1       1    1         2      4\n",
       "2         1       3    1         1      2\n",
       "3         1       1    1         1      4\n",
       "4         0       3    0         1      1"
      ]
     },
     "execution_count": 31,
     "metadata": {},
     "output_type": "execute_result"
    }
   ],
   "source": [
    "# Окончательный набор данных\n",
    "df.head()"
   ]
  },
  {
   "cell_type": "code",
   "execution_count": 32,
   "metadata": {},
   "outputs": [],
   "source": [
    "# Делим данные на тренировочный и тестовый наборы\n",
    "train = df.iloc[:891].reset_index(drop=True)    # тренировочная выборка\n",
    "test = df.iloc[891:].reset_index(drop=True)     # тестовая выборка"
   ]
  },
  {
   "cell_type": "code",
   "execution_count": 33,
   "metadata": {},
   "outputs": [],
   "source": [
    "# Определяем выборки\n",
    "X_train = train.drop('Survived', axis=1)    # удаляем столбец Survived из тренировочных данных\n",
    "y_train = train['Survived']                 # используем столбец Survived как вектор целевых значений\n",
    "X_test = test.drop('Survived', axis=1)      # удаляем столбец Survived из тестовых данных\n",
    "y_test = test['Survived']                   # используем столбец Survived как вектор целевых значений"
   ]
  },
  {
   "cell_type": "code",
   "execution_count": 56,
   "metadata": {},
   "outputs": [
    {
     "data": {
      "text/plain": [
       "\"# Определяем выборки\\nX_train = pd.read_csv('data/titanic_X_train_nikolay_guriev.csv', header=0)\\ny_train = pd.read_csv('data/titanic_y_train.csv', header=0)\\nX_test = pd.read_csv('data/titanic_X_test_nikolay_guriev.csv', header=0)\\ny_test = pd.read_csv('data/titanic_y_test.csv', header=0)\""
      ]
     },
     "execution_count": 56,
     "metadata": {},
     "output_type": "execute_result"
    }
   ],
   "source": [
    "'''# Определяем выборки\n",
    "X_train = pd.read_csv('data/titanic_X_train_nikolay_guriev.csv', header=0)\n",
    "y_train = pd.read_csv('data/titanic_y_train.csv', header=0)\n",
    "X_test = pd.read_csv('data/titanic_X_test_nikolay_guriev.csv', header=0)\n",
    "y_test = pd.read_csv('data/titanic_y_test.csv', header=0)'''"
   ]
  },
  {
   "cell_type": "code",
   "execution_count": 35,
   "metadata": {},
   "outputs": [
    {
     "name": "stdout",
     "output_type": "stream",
     "text": [
      "<class 'pandas.core.frame.DataFrame'>\n",
      "RangeIndex: 891 entries, 0 to 890\n",
      "Data columns (total 4 columns):\n",
      " #   Column    Non-Null Count  Dtype\n",
      "---  ------    --------------  -----\n",
      " 0   Pclass    891 non-null    int8 \n",
      " 1   Sex       891 non-null    int8 \n",
      " 2   Embarked  891 non-null    int8 \n",
      " 3   Title     891 non-null    int8 \n",
      "dtypes: int8(4)\n",
      "memory usage: 3.6 KB\n"
     ]
    }
   ],
   "source": [
    "# Тренировочная выборка X_train\n",
    "X_train.info()"
   ]
  },
  {
   "cell_type": "code",
   "execution_count": 36,
   "metadata": {},
   "outputs": [
    {
     "name": "stdout",
     "output_type": "stream",
     "text": [
      "<class 'pandas.core.series.Series'>\n",
      "RangeIndex: 891 entries, 0 to 890\n",
      "Series name: Survived\n",
      "Non-Null Count  Dtype\n",
      "--------------  -----\n",
      "891 non-null    int8 \n",
      "dtypes: int8(1)\n",
      "memory usage: 1023.0 bytes\n"
     ]
    }
   ],
   "source": [
    "# Тренировочная выборка y_train\n",
    "y_train.info()"
   ]
  },
  {
   "cell_type": "code",
   "execution_count": 37,
   "metadata": {},
   "outputs": [
    {
     "name": "stdout",
     "output_type": "stream",
     "text": [
      "<class 'pandas.core.frame.DataFrame'>\n",
      "RangeIndex: 418 entries, 0 to 417\n",
      "Data columns (total 4 columns):\n",
      " #   Column    Non-Null Count  Dtype\n",
      "---  ------    --------------  -----\n",
      " 0   Pclass    418 non-null    int8 \n",
      " 1   Sex       418 non-null    int8 \n",
      " 2   Embarked  418 non-null    int8 \n",
      " 3   Title     418 non-null    int8 \n",
      "dtypes: int8(4)\n",
      "memory usage: 1.8 KB\n"
     ]
    }
   ],
   "source": [
    "# Тестовая выборка X_test\n",
    "X_test.info()"
   ]
  },
  {
   "cell_type": "code",
   "execution_count": 38,
   "metadata": {},
   "outputs": [
    {
     "name": "stdout",
     "output_type": "stream",
     "text": [
      "<class 'pandas.core.series.Series'>\n",
      "RangeIndex: 418 entries, 0 to 417\n",
      "Series name: Survived\n",
      "Non-Null Count  Dtype\n",
      "--------------  -----\n",
      "418 non-null    int8 \n",
      "dtypes: int8(1)\n",
      "memory usage: 550.0 bytes\n"
     ]
    }
   ],
   "source": [
    "# Тестовая выборка y_test\n",
    "y_test.info()"
   ]
  },
  {
   "cell_type": "code",
   "execution_count": 39,
   "metadata": {},
   "outputs": [],
   "source": [
    "# Импорт библиотек для машинного обучения\n",
    "from sklearn.discriminant_analysis import LinearDiscriminantAnalysis, QuadraticDiscriminantAnalysis\n",
    "from sklearn.ensemble import RandomForestClassifier, AdaBoostClassifier, GradientBoostingClassifier\n",
    "from sklearn.linear_model import LogisticRegression\n",
    "from sklearn.naive_bayes import GaussianNB\n",
    "from sklearn.neighbors import KNeighborsClassifier\n",
    "from sklearn.svm import SVC\n",
    "from sklearn.tree import DecisionTreeClassifier\n",
    "from sklearn.metrics import accuracy_score, precision_score\n",
    "from sklearn.model_selection import cross_val_score\n",
    "from xgboost import XGBClassifier"
   ]
  },
  {
   "cell_type": "code",
   "execution_count": 40,
   "metadata": {},
   "outputs": [],
   "source": [
    "# Сравнение классификаторов\n",
    "# Список классификаторов\n",
    "classifiers = [\n",
    "    KNeighborsClassifier(3),\n",
    "    SVC(probability=True),\n",
    "    DecisionTreeClassifier(),\n",
    "    RandomForestClassifier(),\n",
    "    AdaBoostClassifier(),\n",
    "    GradientBoostingClassifier(),\n",
    "    GaussianNB(),\n",
    "    LinearDiscriminantAnalysis(),\n",
    "    QuadraticDiscriminantAnalysis(),\n",
    "    LogisticRegression(),\n",
    "    XGBClassifier()\n",
    "]   \n",
    "\n",
    "# Создание DataFrame для хранения результатов работы моделей на тренировочных данных\n",
    "log_cols = ['Classifier', 'Accuracy', 'Precision']\n",
    "log_df = pd.DataFrame(columns=log_cols)\n",
    "\n",
    "# Цикл перебора классификаторов и оценка их точности с использованием cross_val_score\n",
    "for clf in classifiers:\n",
    "    name = clf.__class__.__name__\n",
    "    accuracy = cross_val_score(clf, X_train, y_train, cv=10, scoring='accuracy').mean()\n",
    "    precision = cross_val_score(clf, X_train, y_train, cv=10, scoring='precision').mean()\n",
    "    log_entry_df = pd.DataFrame([[name, accuracy, precision]], columns=log_cols)\n",
    "    log_df = pd.concat([log_df, log_entry_df], ignore_index=True)"
   ]
  },
  {
   "cell_type": "code",
   "execution_count": 41,
   "metadata": {},
   "outputs": [],
   "source": [
    "# Импорт библиотек для визуализации\n",
    "import matplotlib.pyplot as plt\n",
    "import seaborn as sns"
   ]
  },
  {
   "cell_type": "code",
   "execution_count": 42,
   "metadata": {},
   "outputs": [],
   "source": [
    "# Установка стиля seaborn\n",
    "sns.set_theme(style='darkgrid', rc={'figure.facecolor': '#eaeaf2'})"
   ]
  },
  {
   "cell_type": "code",
   "execution_count": 43,
   "metadata": {},
   "outputs": [
    {
     "data": {
      "image/png": "[encoded data removed]",
      "text/plain": [
       "<Figure size 1000x250 with 1 Axes>"
      ]
     },
     "metadata": {},
     "output_type": "display_data"
    },
    {
     "data": {
      "image/png": "[encoded data removed]",
      "text/plain": [
       "<Figure size 1000x250 with 1 Axes>"
      ]
     },
     "metadata": {},
     "output_type": "display_data"
    }
   ],
   "source": [
    "# Диаграммы сравнения классификаторов на тренировочных данных\n",
    "# Функция построения диаграммы\n",
    "def plot_classifier_performance(data, x_label, title, color):\n",
    "    plt.figure(figsize=(10, 2.5))\n",
    "    plt.xlabel(x_label, fontsize=10)\n",
    "    plt.ylabel('Classifier', fontsize=10)\n",
    "    plt.title(title, fontsize=10)\n",
    "    plt.tick_params(axis='both', which='major', labelsize=10)  # размер меток на шкале\n",
    "\n",
    "    ax = sns.barplot(x=x_label, y='Classifier', data=data, color=color, linewidth=0)\n",
    "    ax.xaxis.grid(False)  # вертикальные линии на оси X\n",
    "    for spine in ax.spines.values():\n",
    "        spine.set_color('#eaeaf2')  # цвет рамки\n",
    "        spine.set_linewidth(1.0)    # толщина рамки\n",
    "\n",
    "    for index, value in enumerate(data[x_label]):\n",
    "        plt.text(value, index + 0.25, str(round(value, 4)), fontsize=10)\n",
    "\n",
    "\n",
    "# Сортировка данных по убыванию столбца Accuracy\n",
    "log_df = log_df.sort_values(by='Accuracy', ascending=False)\n",
    "# Построение диаграммы для Accuracy\n",
    "plot_classifier_performance(log_df, 'Accuracy', 'Classifier Accuracy on Train Data', 'lightblue')\n",
    "\n",
    "# Сортировка данных по убыванию столбца Precision\n",
    "log_df = log_df.sort_values(by='Precision', ascending=False)\n",
    "# Построение диаграммы для Precision\n",
    "plot_classifier_performance(log_df, 'Precision', 'Classifier Precision on Train Data', 'lightgreen')"
   ]
  },
  {
   "cell_type": "code",
   "execution_count": 44,
   "metadata": {},
   "outputs": [],
   "source": [
    "# Импорт библиотек для тонкой настройки моделей\n",
    "from sklearn.model_selection import GridSearchCV  # класс для поиска оптимальных параметров"
   ]
  },
  {
   "cell_type": "code",
   "execution_count": 45,
   "metadata": {},
   "outputs": [
    {
     "name": "stdout",
     "output_type": "stream",
     "text": [
      "Доля правильных ответов (Accuracy): 0.7895\n",
      "Точность (Precision): 0.8087\n"
     ]
    }
   ],
   "source": [
    "# Классификатор SVC с параметрами по-умолчанию\n",
    "# Создание модели SVC с линейным ядром\n",
    "sv_clf = SVC(probability=True)\n",
    "\n",
    "# Обучение модели на тренировочных данных\n",
    "sv_clf.fit(X_train, y_train)\n",
    "\n",
    "# Предсказание результатов на тестовых данных\n",
    "y_pred = sv_clf.predict(X_test)\n",
    "accuracy = accuracy_score(y_test, y_pred)\n",
    "precision = precision_score(y_test, y_pred)\n",
    "\n",
    "# Вывод результата\n",
    "print('Доля правильных ответов (Accuracy):', round(accuracy, 4))\n",
    "print('Точность (Precision):', round(precision, 4))"
   ]
  },
  {
   "cell_type": "code",
   "execution_count": 46,
   "metadata": {},
   "outputs": [
    {
     "name": "stdout",
     "output_type": "stream",
     "text": [
      "Доля правильных ответов (Accuracy): 0.7895\n",
      "Точность (Precision): 0.7983\n"
     ]
    }
   ],
   "source": [
    "# Классификатор DecisionTreeClassifier с параметрами по-умолчанию\n",
    "# Создание модели DecisionTreeClassifier с линейным ядром\n",
    "dt_clf = DecisionTreeClassifier()\n",
    "\n",
    "# Обучение модели на тренировочных данных\n",
    "dt_clf.fit(X_train, y_train)\n",
    "\n",
    "# Предсказание результатов на тестовых данных\n",
    "y_pred = dt_clf.predict(X_test)\n",
    "accuracy = accuracy_score(y_test, y_pred)\n",
    "precision = precision_score(y_test, y_pred)\n",
    "\n",
    "# Вывод результата\n",
    "print('Доля правильных ответов (Accuracy):', round(accuracy, 4))\n",
    "print('Точность (Precision):', round(precision, 4))"
   ]
  },
  {
   "cell_type": "code",
   "execution_count": 47,
   "metadata": {},
   "outputs": [
    {
     "name": "stdout",
     "output_type": "stream",
     "text": [
      "Доля правильных ответов (Accuracy): 0.7895\n",
      "Точность (Precision): 0.7983\n"
     ]
    }
   ],
   "source": [
    "# Классификатор RandomForestClassifier с параметрами по-умолчанию\n",
    "# Создание модели RandomForestClassifier с линейным ядром\n",
    "rf_clf = RandomForestClassifier()\n",
    "\n",
    "# Обучение модели на тренировочных данных\n",
    "rf_clf.fit(X_train, y_train)\n",
    "\n",
    "# Предсказание результатов на тестовых данных\n",
    "y_pred = rf_clf.predict(X_test)\n",
    "accuracy = accuracy_score(y_test, y_pred)\n",
    "precision = precision_score(y_test, y_pred)\n",
    "\n",
    "# Вывод результата\n",
    "print('Доля правильных ответов (Accuracy):', round(accuracy, 4))\n",
    "print('Точность (Precision):', round(precision, 4))"
   ]
  },
  {
   "cell_type": "code",
   "execution_count": 48,
   "metadata": {},
   "outputs": [
    {
     "name": "stdout",
     "output_type": "stream",
     "text": [
      "Доля правильных ответов (Accuracy): 0.7895\n",
      "Точность (Precision): 0.7983\n"
     ]
    }
   ],
   "source": [
    "# Классификатор GradientBoostingClassifier с параметрами по-умолчанию\n",
    "# Создание модели GradientBoostingClassifier с линейным ядром\n",
    "gb_clf = GradientBoostingClassifier()\n",
    "\n",
    "# Обучение модели на тренировочных данных\n",
    "gb_clf.fit(X_train, y_train)\n",
    "\n",
    "# Предсказание результатов на тестовых данных\n",
    "y_pred = gb_clf.predict(X_test)\n",
    "accuracy = accuracy_score(y_test, y_pred)\n",
    "precision = precision_score(y_test, y_pred)\n",
    "\n",
    "# Вывод результата\n",
    "print('Доля правильных ответов (Accuracy):', round(accuracy, 4))\n",
    "print('Точность (Precision):', round(precision, 4))"
   ]
  },
  {
   "cell_type": "code",
   "execution_count": 49,
   "metadata": {},
   "outputs": [
    {
     "name": "stdout",
     "output_type": "stream",
     "text": [
      "Доля правильных ответов (Accuracy): 0.7895\n",
      "Точность (Precision): 0.7983\n"
     ]
    }
   ],
   "source": [
    "# Классификатор XGBClassifier с параметрами по-умолчанию\n",
    "# Создание модели XGBClassifier\n",
    "xgb_clf = XGBClassifier()\n",
    "\n",
    "# Обучение модели на тренировочных данных\n",
    "xgb_clf.fit(X_train, y_train)\n",
    "\n",
    "# Предсказание результатов на тестовых данных\n",
    "y_pred = xgb_clf.predict(X_test)\n",
    "accuracy = accuracy_score(y_test, y_pred)\n",
    "precision = precision_score(y_test, y_pred)\n",
    "\n",
    "# Вывод результата\n",
    "print('Доля правильных ответов (Accuracy):', round(accuracy, 4))\n",
    "print('Точность (Precision):', round(precision, 4))"
   ]
  },
  {
   "cell_type": "code",
   "execution_count": 50,
   "metadata": {},
   "outputs": [
    {
     "data": {
      "text/plain": [
       "\"# Классификатор SVC с подбором параметров\\n# Сетка параметров для поиска\\nparam_grid = {\\n    'probability': [True, False],    \\n    'kernel': ['rbf', 'linear', 'poly', 'sigmoid'],     # типы ядер\\n    'C': [0.1, 1, 10, 100],                             # параметр регуляризации\\n    'gamma': [1, 0.1, 0.01, 0.001]                      # параметр ядра (для RBF)\\n}\\n\\n# Создание объекта GridSearchCV для поиска оптимальных параметров\\ngrid_search = GridSearchCV(SVC(), param_grid, cv=10, scoring='accuracy', n_jobs=-1)\\n\\n# Обучение (тренировка) модели\\ngrid_search.fit(X_train, y_train)\\n\\n# Получение наилучших параметров\\nbest_params = grid_search.best_params_\\nprint('Наилучшие найденные параметры:', best_params)\\n\\n# Получение наилучшей модели\\nbest_model = grid_search.best_estimator_\\n\\n# Предсказание результатов на тестовых данных (эти данные модель не видела при обучении)\\ny_pred = best_model.predict(X_test)\\naccuracy = accuracy_score(y_test, y_pred)\\nprecision = precision_score(y_test, y_pred)\\n\\nprint('Доля правильных ответов (Accuracy):', round(accuracy, 4))\\nprint('Точность (Precision):', round(precision, 4))\""
      ]
     },
     "execution_count": 50,
     "metadata": {},
     "output_type": "execute_result"
    }
   ],
   "source": [
    "'''# Классификатор SVC с подбором параметров\n",
    "# Сетка параметров для поиска\n",
    "param_grid = {\n",
    "    'probability': [True, False],    \n",
    "    'kernel': ['rbf', 'linear', 'poly', 'sigmoid'],     # типы ядер\n",
    "    'C': [0.1, 1, 10, 100],                             # параметр регуляризации\n",
    "    'gamma': [1, 0.1, 0.01, 0.001]                      # параметр ядра (для RBF)\n",
    "}\n",
    "\n",
    "# Создание объекта GridSearchCV для поиска оптимальных параметров\n",
    "grid_search = GridSearchCV(SVC(), param_grid, cv=10, scoring='accuracy', n_jobs=-1)\n",
    "\n",
    "# Обучение (тренировка) модели\n",
    "grid_search.fit(X_train, y_train)\n",
    "\n",
    "# Получение наилучших параметров\n",
    "best_params = grid_search.best_params_\n",
    "print('Наилучшие найденные параметры:', best_params)\n",
    "\n",
    "# Получение наилучшей модели\n",
    "best_model = grid_search.best_estimator_\n",
    "\n",
    "# Предсказание результатов на тестовых данных (эти данные модель не видела при обучении)\n",
    "y_pred = best_model.predict(X_test)\n",
    "accuracy = accuracy_score(y_test, y_pred)\n",
    "precision = precision_score(y_test, y_pred)\n",
    "\n",
    "print('Доля правильных ответов (Accuracy):', round(accuracy, 4))\n",
    "print('Точность (Precision):', round(precision, 4))'''"
   ]
  },
  {
   "cell_type": "code",
   "execution_count": 51,
   "metadata": {},
   "outputs": [
    {
     "name": "stdout",
     "output_type": "stream",
     "text": [
      "Наилучшие найденные параметры: {'criterion': 'gini', 'max_depth': 3, 'min_samples_leaf': 1, 'min_samples_split': 2}\n",
      "Доля правильных ответов (Accuracy): 0.7871\n",
      "Точность (Precision): 0.7917\n",
      "Важность признаков:\n",
      "    Feature  Importance\n",
      "3     Title    0.700035\n",
      "0    Pclass    0.260091\n",
      "2  Embarked    0.039874\n",
      "1       Sex    0.000000\n"
     ]
    }
   ],
   "source": [
    "# Классификатор DecisionTreeClassifier с подбором параметров\n",
    "# Сетка параметров для поиска\n",
    "param_grid = {\n",
    "    'criterion': ['gini', 'entropy'],\n",
    "    'max_depth': [3, 4],\n",
    "    'min_samples_split': [2, 3],\n",
    "    'min_samples_leaf': [1, 2]\n",
    "}\n",
    "\n",
    "# Создание экземпляра GridSearchCV для поиска оптимальных параметров\n",
    "grid_search = GridSearchCV(DecisionTreeClassifier(), param_grid, cv=10, scoring='accuracy')\n",
    "\n",
    "# Обучение модели\n",
    "grid_search.fit(X_train, y_train)\n",
    "\n",
    "# Получение наилучших параметров\n",
    "best_params = grid_search.best_params_\n",
    "print('Наилучшие найденные параметры:', best_params)\n",
    "\n",
    "# Получение наилучшей модели\n",
    "best_model = grid_search.best_estimator_\n",
    "\n",
    "# Предсказание результатов на тестовых данных\n",
    "y_pred = best_model.predict(X_test)\n",
    "accuracy = accuracy_score(y_test, y_pred)\n",
    "precision = precision_score(y_test, y_pred)\n",
    "\n",
    "print('Доля правильных ответов (Accuracy):', round(accuracy, 4))\n",
    "print('Точность (Precision):', round(precision, 4))\n",
    "\n",
    "# Оценка важности признаков\n",
    "importances = best_model.feature_importances_\n",
    "\n",
    "# Создание DataFrame для удобства анализа результатов\n",
    "feature_importance_df = pd.DataFrame({'Feature': X_train.columns, 'Importance': importances})\n",
    "feature_importance_df = feature_importance_df.sort_values(by='Importance', ascending=False)\n",
    "\n",
    "# Вывод результатов\n",
    "print('Важность признаков:')\n",
    "print(feature_importance_df)"
   ]
  },
  {
   "cell_type": "code",
   "execution_count": 52,
   "metadata": {},
   "outputs": [
    {
     "name": "stdout",
     "output_type": "stream",
     "text": [
      "Наилучшие найденные параметры: {'learning_rate': 0.1, 'max_depth': 4, 'n_estimators': 300}\n",
      "Доля правильных ответов (Accuracy): 0.7895\n",
      "Точность (Precision): 0.7983\n",
      "Важность признаков:\n",
      "    Feature  Importance\n",
      "3     Title    0.676393\n",
      "0    Pclass    0.263306\n",
      "2  Embarked    0.046190\n",
      "1       Sex    0.014111\n"
     ]
    }
   ],
   "source": [
    "# Классификатор XGBClassifier с подбором параметров\n",
    "# Сетка параметров для поиска\n",
    "param_grid = {\n",
    "    'n_estimators': [100, 200, 300],\n",
    "    'max_depth': [3, 4, 5],\n",
    "    'learning_rate': [0.1, 0.01, 0.001]\n",
    "}\n",
    "\n",
    "# Создание экземпляра GridSearchCV для поиска оптимальных параметров\n",
    "grid_search = GridSearchCV(XGBClassifier(), param_grid, cv=10, scoring='accuracy')\n",
    "\n",
    "# Обучение модели\n",
    "grid_search.fit(X_train, y_train)\n",
    "\n",
    "# Получение наилучших параметров\n",
    "best_params = grid_search.best_params_\n",
    "print('Наилучшие найденные параметры:', best_params)\n",
    "\n",
    "# Получение наилучшей модели\n",
    "best_model = grid_search.best_estimator_\n",
    "\n",
    "# Предсказание результатов на тестовых данных\n",
    "y_pred = best_model.predict(X_test)\n",
    "accuracy = accuracy_score(y_test, y_pred)\n",
    "precision = precision_score(y_test, y_pred)\n",
    "\n",
    "print('Доля правильных ответов (Accuracy):', round(accuracy, 4))\n",
    "print('Точность (Precision):', round(precision, 4))\n",
    "\n",
    "# Оценка важности признаков\n",
    "importances = best_model.feature_importances_\n",
    "\n",
    "# Создание DataFrame для удобства анализа результатов\n",
    "feature_importance_df = pd.DataFrame({'Feature': X_train.columns, 'Importance': importances})\n",
    "feature_importance_df = feature_importance_df.sort_values(by='Importance', ascending=False)\n",
    "\n",
    "# Вывод результатов\n",
    "print('Важность признаков:')\n",
    "print(feature_importance_df)"
   ]
  },
  {
   "cell_type": "code",
   "execution_count": 53,
   "metadata": {},
   "outputs": [
    {
     "data": {
      "text/plain": [
       "'# Классификатор GradientBoostingClassifier с подбором параметров\\n# Сетка параметров для поиска\\nparam_grid = {\\n    \\'n_estimators\\': [50, 100, 200],\\n    \\'learning_rate\\': [0.01, 0.1, 0.5],\\n    \\'max_depth\\': [3, 5, 7]\\n}\\n\\n# Создание экземпляра GridSearchCV для поиска оптимальных параметров\\ngrid_search = GridSearchCV(GradientBoostingClassifier(), param_grid, cv=10, scoring=\\'accuracy\\')\\n\\n# Обучение модели\\ngrid_search.fit(X_train, y_train)\\n\\n# Получение наилучших параметров\\nbest_params = grid_search.best_params_\\nprint(\"Наилучшие найденные параметры:\", best_params)\\n\\n# Получение наилучшей модели\\nbest_model = grid_search.best_estimator_\\n\\n# Предсказание результатов на тестовых данных\\ny_pred = best_model.predict(X_test)\\nprecision = precision_score(y_test, y_pred)\\naccuracy = accuracy_score(y_test, y_pred)\\nprint(\"Точность (Precision):\", round(precision, 3))\\nprint(\"Доля правильных ответов (Accuracy):\", round(accuracy, 3))\\n\\n# Оценка важности признаков\\nimportances = best_model.feature_importances_\\n\\n# Создание DataFrame для удобства анализа результатов\\nfeature_importance_df = pd.DataFrame({\\'Feature\\': X_train.columns, \\'Importance\\': importances})\\nfeature_importance_df = feature_importance_df.sort_values(by=\\'Importance\\', ascending=False)\\n\\n# Вывод результатов\\nprint(\"Важность признаков:\")\\nprint(feature_importance_df)'"
      ]
     },
     "execution_count": 53,
     "metadata": {},
     "output_type": "execute_result"
    }
   ],
   "source": [
    "'''# Классификатор GradientBoostingClassifier с подбором параметров\n",
    "# Сетка параметров для поиска\n",
    "param_grid = {\n",
    "    'n_estimators': [50, 100, 200],\n",
    "    'learning_rate': [0.01, 0.1, 0.5],\n",
    "    'max_depth': [3, 5, 7]\n",
    "}\n",
    "\n",
    "# Создание экземпляра GridSearchCV для поиска оптимальных параметров\n",
    "grid_search = GridSearchCV(GradientBoostingClassifier(), param_grid, cv=10, scoring='accuracy')\n",
    "\n",
    "# Обучение модели\n",
    "grid_search.fit(X_train, y_train)\n",
    "\n",
    "# Получение наилучших параметров\n",
    "best_params = grid_search.best_params_\n",
    "print(\"Наилучшие найденные параметры:\", best_params)\n",
    "\n",
    "# Получение наилучшей модели\n",
    "best_model = grid_search.best_estimator_\n",
    "\n",
    "# Предсказание результатов на тестовых данных\n",
    "y_pred = best_model.predict(X_test)\n",
    "precision = precision_score(y_test, y_pred)\n",
    "accuracy = accuracy_score(y_test, y_pred)\n",
    "print(\"Точность (Precision):\", round(precision, 3))\n",
    "print(\"Доля правильных ответов (Accuracy):\", round(accuracy, 3))\n",
    "\n",
    "# Оценка важности признаков\n",
    "importances = best_model.feature_importances_\n",
    "\n",
    "# Создание DataFrame для удобства анализа результатов\n",
    "feature_importance_df = pd.DataFrame({'Feature': X_train.columns, 'Importance': importances})\n",
    "feature_importance_df = feature_importance_df.sort_values(by='Importance', ascending=False)\n",
    "\n",
    "# Вывод результатов\n",
    "print(\"Важность признаков:\")\n",
    "print(feature_importance_df)'''"
   ]
  },
  {
   "cell_type": "code",
   "execution_count": 54,
   "metadata": {},
   "outputs": [],
   "source": [
    "def make_submission(y_pred, file_name):\n",
    "    submission = pd.DataFrame({'PassengerId': list(range(892, 1310)), 'Survived': [int(i) for i in y_pred]})\n",
    "    submission.to_csv(file_name, index=False)"
   ]
  },
  {
   "cell_type": "code",
   "execution_count": 55,
   "metadata": {},
   "outputs": [],
   "source": [
    "# make_submission(y_pred, 'data/answers/answers.csv')"
   ]
  }
 ],
 "metadata": {
  "kernelspec": {
   "display_name": "Python 3",
   "language": "python",
   "name": "python3"
  },
  "language_info": {
   "codemirror_mode": {
    "name": "ipython",
    "version": 3
   },
   "file_extension": ".py",
   "mimetype": "text/x-python",
   "name": "python",
   "nbconvert_exporter": "python",
   "pygments_lexer": "ipython3",
   "version": "3.11.2"
  }
 },
 "nbformat": 4,
 "nbformat_minor": 2
}

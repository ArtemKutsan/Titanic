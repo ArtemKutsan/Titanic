{
 "cells": [
  {
   "cell_type": "markdown",
   "metadata": {},
   "source": [
    "<link rel=\"stylesheet\" type=\"text/css\" href=\"styles/styles.css\">\n",
    "\n",
    "# Вступление\n",
    "\n",
    "Это блокнот с решением задачи Титаника. Блокнот написан на основе нескольких других блокнотов с решением данной задачи, переведен и адаптирован под текущие версии библиотек. За основу взят блокнот [Exploring Survival on Titanic\" by Megan Risdal, a Kernel in R on Kaggle](https://www.kaggle.com/mrisdal/titanic/exploring-survival-on-the-titanic)."
   ]
  },
  {
   "cell_type": "markdown",
   "metadata": {},
   "source": [
    "<link rel=\"stylesheet\" type=\"text/css\" href=\"styles/styles.css\">\n",
    "\n",
    "# Общая информация\n",
    "\n",
    "Сайты соревнований, такие как Kaggle, определяют проблему, которую нужно решить, или вопросы, на которые нужно ответить, предоставляя наборы данных для обучения модели в Data Science и тестирования результатов модели на тестовом наборе данных. Вопросы и определение проблемы для соревнования по предсказанию выживших на Титанике [описаны на Kaggle](https://www.kaggle.com/c/titanic).\n",
    "\n",
    "Мы также можем расширить начальное понимание предметной области нашей проблемы. Об этом говорится на [странице описания соревнования Kaggle](https://www.kaggle.com/c/titanic). Вот основные моменты, на которые можно обратить внимание:\n",
    "\n",
    "- 15 апреля 1912 года во время своего первого плавания Титаник потонул после столкновения с айсбергом, погибло 1502 из 2224 пассажиров и членов экипажа. Что составляет 32% выживаемости.\n",
    "- Одной из причин, по которой кораблекрушение привело к таким потерям, было то, что для пассажиров и членов экипажа не хватило спасательных шлюпок.\n",
    "- Хотя в выживании после кораблекрушения был определенный элемент удачи, некоторые группы людей имели больше шансов выжить, чем другие. Например женщины и дети пассажиры первого класса."
   ]
  },
  {
   "cell_type": "markdown",
   "metadata": {},
   "source": [
    "<link rel=\"stylesheet\" type=\"text/css\" href=\"styles/styles.css\">\n",
    "\n",
    "### Этапы решения задач в Data Science\n",
    "\n",
    "Процесс решения задач в Data Science может состоять из нескольких последовательных этапов:\n",
    "\n",
    "1. Постановка вопроса и/или описание проблемы.\n",
    "2. Анализ и исследование данных, выявление паттернов (Data Analysis).\n",
    "3. Подготовка данных (Feature Engineering) (Обработка, очистка и/или создание признаков).\n",
    "4. Моделирование и сравнение результатов различных классификаторов (Classifier Comparison).\n",
    "5. Решение проблемы и предсказание результата (Prediction)\n",
    "\n",
    "Процесс решения показывает общую последовательность того, как каждый этап может следовать за другим. Однако есть случаи, когда возможны исключения.\n",
    "\n",
    "- Мы можем объединить несколько этапов рабочего процесса. Например анализировать данные, визуализируя их.\n",
    "- Выполнить этап раньше, чем указано. Например проанализировать данные до и после их обработки.\n",
    "- Выполнить этап несколько раз в процессе решения. Этап визуализации также может использоваться несколько раз.\n",
    "- Отбросить этап полностью. Нам может не понадобиться этап предоставления результатов для внедрения в продукт или предоставления возможности использования нашего набора данных для соревнования."
   ]
  },
  {
   "cell_type": "markdown",
   "metadata": {},
   "source": [
    "<link rel=\"stylesheet\" type=\"text/css\" href=\"styles/styles.css\">\n",
    "\n",
    "### Процесс анализа и подготовки данных ###\n",
    "\n",
    "В процессе анализа и подготовки данных нам предстоит выполнить несколько необходимых этапов:\n",
    "\n",
    "**Классификация.** Мы можем классифицировать или категоризировать наши образцы. Таким образом мы сможем понять значимость или корреляцию различных классов с нашим результатом решения.\n",
    "\n",
    "**Корреляция.** Мы можем подойти к проблеме на основе уже доступных признаков в обучающем наборе данных. Какие признаки в наборе данных значительно влияют на наш результат решения? Статистически говоря, есть ли корреляция между признаком и результатом решения? При изменении значений признаков меняется ли также результат решения, и наоборот? Это можно проверить как для числовых, так и для категориальных признаков. Мы также можем определить корреляцию между признаками, отличными от выживания, для последующих целей и этапов разработки. Корреляция некоторых признаков может помочь в создании, дополнении или корректировке признаков.\n",
    "\n",
    "**Заполнение.** Подготовка данных также может потребовать оценки и заполнения отсутствующих значений признаков. Алгоритмы моделирования могут работать хуже или не работать вовсе когда в данных есть пропущенные значения.\n",
    "\n",
    "**Коррекция.** Мы также можем проанализировать предоставленный обучающий набор данных на наличие ошибок или возможно неточных значений в признаках и попытаться исправить эти значения или исключить образцы, содержащие ошибки. Один из способов сделать это - обнаружить любые выбросы среди наших образцов или признаков. Мы также можем полностью отбросить признак, если он не способствует анализу или может существенно искажать результаты.\n",
    "\n",
    "**Создание.** Наконец мы можем создать новые признаки на основе существующего признака или набора признаков таким образом, чтобы новый признак соответствовал целям корреляции, преобразования, заполнения.\n",
    "\n",
    "**Преобразование.** Для этапа обучения модели предсказания требуется подготовка данных. В зависимости от выбора алгоритма моделирования может потребоваться преобразовать все признаки в числовые эквивалентные значения. Так, например, текстовые категориальные значения признаков могут быть преобразованы в числовые значения.\n",
    "\n",
    "**Визуализация.** Выбор правильных графиков и диаграмм визуализации в зависимости от характера данных и целей решения."
   ]
  },
  {
   "cell_type": "markdown",
   "metadata": {},
   "source": [
    "<link rel=\"stylesheet\" type=\"text/css\" href=\"styles/styles.css\">\n",
    "\n",
    "# 1. Постановка вопроса и/или описание проблемы\n",
    "\n",
    "Используя набор данных, состоящий из перечня пассажиров Титаника, построить модель пресказывющую выжил ли тот или иной пассажир или нет используя информацию о его возрасте, поле, стоимости билета и др."
   ]
  },
  {
   "cell_type": "markdown",
   "metadata": {},
   "source": [
    "<link rel=\"stylesheet\" type=\"text/css\" href=\"styles/styles.css\">\n",
    "\n",
    "# 2. Анализ данных (Data Analysis)\n",
    "\n",
    "**Pandas** - это библиотека на языке Python для работы с данными, которая предоставляет широкий набор инструментов для анализа и манипуляции табличных данных. Pandas использует основной объект - DataFrame - для хранения и работы с данными, а также предоставляет многочисленные функции для их обработки.\n",
    "\n",
    "**NumPy** - это библиотека на языке Python для работы с многомерными массивами и матрицами. В отличие от Pandas, NumPy не предоставляет высокоуровневых функций для работы с табличными данными, однако, NumPy может быть более эффективным при работе с большими объемами данных и операциями линейной алгебры.\n",
    "\n",
    "Сперва попытаемся ответить на некоторые важные вопросы:\n",
    "- _Какая структура у наших наборов данных?_\n",
    "- _Какие признаки (features) доступны в наборах данных?_\n",
    "- _Какие признаки являются числовыми?_\n",
    "- _Какие признаки являются категориальными?_\n",
    "- _Какие признаки имеют смешанный тип данных?_\n",
    "- _Какие признаки содержат ошибки, опечатки и/или отсутствующие и/или нулевые значения?_\n",
    "- _Какие типы данных у различных признаков?_\n",
    "- _Как распределены числовые и нечисловые признаки?_"
   ]
  },
  {
   "cell_type": "code",
   "execution_count": 73,
   "metadata": {},
   "outputs": [],
   "source": [
    "# Импорт библиотек для анализа данных\n",
    "import pandas as pd\n",
    "import numpy as np"
   ]
  },
  {
   "cell_type": "code",
   "execution_count": 74,
   "metadata": {},
   "outputs": [],
   "source": [
    "# Загрузка данных\n",
    "train = pd.read_csv('data/titanic_train.csv', header=0)\n",
    "test = pd.read_csv('data/titanic_test.csv', header=0)"
   ]
  },
  {
   "cell_type": "code",
   "execution_count": 75,
   "metadata": {},
   "outputs": [],
   "source": [
    "# Настройки вывода\n",
    "pd.set_option('display.width', 10000)  # максимальная ширина области вывода (10000 без ограничений)\n",
    "train.style.set_caption('Тренировочный набор данных')\n",
    "test.style.set_caption('Тестовый набор данных')\n",
    "data = pd.concat((train, test), ignore_index=True)\n",
    "data.style.set_caption('Полный набор данных');"
   ]
  },
  {
   "cell_type": "code",
   "execution_count": 76,
   "metadata": {},
   "outputs": [
    {
     "data": {
      "text/plain": [
       "'data = data.sample(frac=1).reset_index(drop=True)\\ntrain = data.iloc[:891].reset_index(drop=True)\\ntest = data.iloc[891:].reset_index(drop=True)'"
      ]
     },
     "execution_count": 76,
     "metadata": {},
     "output_type": "execute_result"
    }
   ],
   "source": [
    "# Перемешиваем данные\n",
    "'''data = data.sample(frac=1).reset_index(drop=True)\n",
    "train = data.iloc[:891].reset_index(drop=True)\n",
    "test = data.iloc[891:].reset_index(drop=True)'''"
   ]
  },
  {
   "cell_type": "code",
   "execution_count": 77,
   "metadata": {},
   "outputs": [
    {
     "name": "stdout",
     "output_type": "stream",
     "text": [
      "<class 'pandas.core.frame.DataFrame'>\n",
      "RangeIndex: 891 entries, 0 to 890\n",
      "Data columns (total 15 columns):\n",
      " #   Column       Non-Null Count  Dtype  \n",
      "---  ------       --------------  -----  \n",
      " 0   PassengerId  891 non-null    int64  \n",
      " 1   Survived     891 non-null    int64  \n",
      " 2   Pclass       891 non-null    int64  \n",
      " 3   Name         891 non-null    object \n",
      " 4   Sex          891 non-null    object \n",
      " 5   Age          714 non-null    float64\n",
      " 6   SibSp        891 non-null    int64  \n",
      " 7   Parch        891 non-null    int64  \n",
      " 8   Ticket       891 non-null    object \n",
      " 9   Fare         891 non-null    float64\n",
      " 10  Cabin        204 non-null    object \n",
      " 11  Embarked     889 non-null    object \n",
      " 12  Boat         330 non-null    object \n",
      " 13  Body         84 non-null     float64\n",
      " 14  Home.Dest    499 non-null    object \n",
      "dtypes: float64(3), int64(5), object(7)\n",
      "memory usage: 104.5+ KB\n"
     ]
    }
   ],
   "source": [
    "# Общая информация о тренировочном наборе данных\n",
    "train.info()"
   ]
  },
  {
   "cell_type": "code",
   "execution_count": 78,
   "metadata": {},
   "outputs": [
    {
     "name": "stdout",
     "output_type": "stream",
     "text": [
      "<class 'pandas.core.frame.DataFrame'>\n",
      "RangeIndex: 418 entries, 0 to 417\n",
      "Data columns (total 15 columns):\n",
      " #   Column       Non-Null Count  Dtype  \n",
      "---  ------       --------------  -----  \n",
      " 0   PassengerId  418 non-null    int64  \n",
      " 1   Survived     418 non-null    int64  \n",
      " 2   Pclass       418 non-null    int64  \n",
      " 3   Name         418 non-null    object \n",
      " 4   Sex          418 non-null    object \n",
      " 5   Age          332 non-null    float64\n",
      " 6   SibSp        418 non-null    int64  \n",
      " 7   Parch        418 non-null    int64  \n",
      " 8   Ticket       418 non-null    object \n",
      " 9   Fare         417 non-null    float64\n",
      " 10  Cabin        91 non-null     object \n",
      " 11  Embarked     418 non-null    object \n",
      " 12  Boat         145 non-null    object \n",
      " 13  Body         36 non-null     float64\n",
      " 14  Home.Dest    236 non-null    object \n",
      "dtypes: float64(3), int64(5), object(7)\n",
      "memory usage: 49.1+ KB\n"
     ]
    }
   ],
   "source": [
    "# Общая информация о тестовом наборе данных\n",
    "test.info()"
   ]
  },
  {
   "cell_type": "code",
   "execution_count": 79,
   "metadata": {},
   "outputs": [
    {
     "name": "stdout",
     "output_type": "stream",
     "text": [
      "   PassengerId  Survived  Pclass       Name     Sex   Age  SibSp  Parch     Ticket     Fare Cabin Embarked Boat  Body  Home.Dest\n",
      "0          1           0       3  Braund...    male  22.0      1      0  A/5 21171   7.2500   NaN        S  NaN   NaN  Bridge...\n",
      "1          2           1       1  Cuming...  female  38.0      1      0   PC 17599  71.2833   C85        C    4   NaN  New Yo...\n",
      "2          3           1       3  Heikki...  female  26.0      0      0  STON/O...   7.9250   NaN        S  NaN   NaN        NaN\n",
      "3          4           1       1  Futrel...  female  35.0      1      0     113803  53.1000  C123        S    D   NaN  Scitua...\n",
      "4          5           0       3  Allen,...    male  35.0      0      0     373450   8.0500   NaN        S  NaN   NaN  Lower ...\n"
     ]
    }
   ],
   "source": [
    "# Тренировочный набор данных\n",
    "pd.set_option('display.max_colwidth', 10)  # максимальная ширина колонки\n",
    "print(train.head())"
   ]
  },
  {
   "cell_type": "code",
   "execution_count": 80,
   "metadata": {},
   "outputs": [
    {
     "name": "stdout",
     "output_type": "stream",
     "text": [
      "       PassengerId    Survived      Pclass         Age       SibSp       Parch        Fare        Body\n",
      "count   891.000000  891.000000  891.000000  714.000000  891.000000  891.000000  891.000000   84.000000\n",
      "mean    446.000000    0.383838    2.308642   29.699118    0.523008    0.381594   32.204208  161.738095\n",
      "std     257.353842    0.486592    0.836071   14.526497    1.102743    0.806057   49.693429   96.890588\n",
      "min       1.000000    0.000000    1.000000    0.420000    0.000000    0.000000    0.000000    4.000000\n",
      "25%     223.500000    0.000000    2.000000   20.125000    0.000000    0.000000    7.910400   71.500000\n",
      "50%     446.000000    0.000000    3.000000   28.000000    0.000000    0.000000   14.454200  167.500000\n",
      "75%     668.500000    1.000000    3.000000   38.000000    1.000000    0.000000   31.000000  250.500000\n",
      "max     891.000000    1.000000    3.000000   80.000000    8.000000    6.000000  512.329200  328.000000\n"
     ]
    }
   ],
   "source": [
    "# Распределение числовых значений тренировочного набора данных\n",
    "pd.set_option('display.max_colwidth', None)  # максимальная ширина колонки\n",
    "print(train.describe())"
   ]
  },
  {
   "cell_type": "code",
   "execution_count": 81,
   "metadata": {},
   "outputs": [
    {
     "name": "stdout",
     "output_type": "stream",
     "text": [
      "                           Name   Sex  Ticket    Cabin Embarked Boat     Home.Dest\n",
      "count                       891   891     891      204      889  330           499\n",
      "unique                      891     2     681      147        3   24           291\n",
      "top     Braund, Mr. Owen Harris  male  347082  B96 B98        S   15  New York, NY\n",
      "freq                          1   577       7        4      644   27            43\n"
     ]
    }
   ],
   "source": [
    "# Распределение категориальных значений тренировочного набора данных\n",
    "print(train.describe(include=['O']))"
   ]
  },
  {
   "cell_type": "markdown",
   "metadata": {},
   "source": [
    "<link rel=\"stylesheet\" type=\"text/css\" href=\"styles/styles.css\">\n",
    "\n",
    "Удаляем колонки которые явно предсказывают результат выжил пассажир или нет. Это колонки Boat (лодка) в которую сел пассажир при крушении и Body (номер тела) найденного пассажира. Survived это наша целевая переменная, т. е. это именно то, что мы будем предсказывать. Так же кдаляем колонки в которых много пропускрв и/или которые очевидно напрямую не могут влиять на выживаемость. Колонка Embarker (порт посадки) на первый взгляд тоже может быть удалена, но решение о ее удалении мы примем позже, после ее более детального анализа."
   ]
  },
  {
   "cell_type": "code",
   "execution_count": 82,
   "metadata": {},
   "outputs": [],
   "source": [
    "# Удаление некоторых колонок\n",
    "for dataset in (train, test):\n",
    "    # Удаляем колонки которые явно предсказывают результат (кроме Survived - это наша целевая переменная)\n",
    "    dataset.drop(columns=[\"Boat\", \"Body\"], inplace=True)\n",
    "\n",
    "    # Удаляем колонки в которых много пропусков и/или которые очевидно напрямую не могут влиять на выживаемость\n",
    "    dataset.drop(columns=[\"Cabin\", \"Home.Dest\"], inplace=True)"
   ]
  },
  {
   "cell_type": "code",
   "execution_count": 83,
   "metadata": {},
   "outputs": [
    {
     "name": "stdout",
     "output_type": "stream",
     "text": [
      "   PassengerId  Survived  Pclass                           Name     Sex   Age  SibSp  Parch            Ticket     Fare Embarked\n",
      "0            1         0       3        Braund, Mr. Owen Harris    male  22.0      1      0         A/5 21171   7.2500        S\n",
      "1            2         1       1  Cumings, Mrs. John Bradley...  female  38.0      1      0          PC 17599  71.2833        C\n",
      "2            3         1       3         Heikkinen, Miss. Laina  female  26.0      0      0  STON/O2. 3101282   7.9250        S\n",
      "3            4         1       1  Futrelle, Mrs. Jacques Hea...  female  35.0      1      0            113803  53.1000        S\n",
      "4            5         0       3       Allen, Mr. William Henry    male  35.0      0      0            373450   8.0500        S\n"
     ]
    }
   ],
   "source": [
    "# Тренировочный набор данных\n",
    "pd.set_option('display.max_colwidth', 30)  # максимальная ширина колонки\n",
    "print(train.head())"
   ]
  },
  {
   "cell_type": "markdown",
   "metadata": {},
   "source": [
    "<link rel=\"stylesheet\" type=\"text/css\" href=\"styles/styles.css\">\n",
    "\n",
    "### Результаты первичного анализа данных\n",
    "\n",
    "В результате первичного анализа мы смогли ответить на первоначальные вопросы относительно нашего тренировочного и тестового набора данных. Теперь мы можем приступить к более детальному изучению признаков."
   ]
  },
  {
   "cell_type": "markdown",
   "metadata": {},
   "source": [
    "<link rel=\"stylesheet\" type=\"text/css\" href=\"styles/styles.css\">\n",
    "\n",
    "##### _Какая структура у наших наборов данных?_\n",
    "\n",
    "Наши наборы данных имеют следующую структуру:\n",
    "\n",
    "- Тренировочный набор данных содержит 891 ряд и 14 колонок (12 после редактирования).\n",
    "- Тестовый набор данных содержит 418 рядов x 12 колонок (12 после редактирования)."
   ]
  },
  {
   "cell_type": "markdown",
   "metadata": {},
   "source": [
    "<link rel=\"stylesheet\" type=\"text/css\" href=\"styles/styles.css\">\n",
    "\n",
    "##### _Какие признаки (features) доступны в наборах данных?_\n",
    "\n",
    "Мы имеем следующие признаки:\n",
    "- PassengerId - id пассажира\n",
    "- Survived - выжил пассажир или нет (наша целевая переменная)\n",
    "- Pclass - класс биллета\n",
    "- Name - имя\n",
    "- Sex - пол\n",
    "- Age - возраст\n",
    "- SibSp - число сопутствующих пассажиров\n",
    "- Parch - число родителей/детей на борту Титаника\n",
    "- Ticket - номер билета\n",
    "- Fare - стоимость билета\n",
    "- Cabin - каюта\n",
    "- Embarked - порт посадки (C = Шербур, Q = Куинстаун, S = Саутгемптон)\n",
    "\n",
    "Эти имена признаков описаны также на странице [Kaggle data page](https://www.kaggle.com/c/titanic/data)."
   ]
  },
  {
   "cell_type": "markdown",
   "metadata": {},
   "source": [
    "<link rel=\"stylesheet\" type=\"text/css\" href=\"styles/styles.css\">\n",
    "\n",
    "##### _Какие признаки являются числовыми?_\n",
    "\n",
    "Эти признаки состоят только из чисел и могут принимать любые числовые значения. Напимер рост. В каких числовых признаках значения дискретные, непрерывные или основанные на временных рядах? Это также поможет нам выбрать подходящие графики для визуализации.\n",
    "\n",
    "- Непрерывные: Age, Fare.\n",
    "- Дискретные: SibSp, Parch."
   ]
  },
  {
   "cell_type": "markdown",
   "metadata": {},
   "source": [
    "<link rel=\"stylesheet\" type=\"text/css\" href=\"styles/styles.css\">\n",
    "\n",
    "##### _Какие признаки являются категориальными?_\n",
    "\n",
    "Эти признаки классифицируют различные наборы похожих значений. Напимер: мужчина или женщина, класс билета и др. В каких из этих признаков значения числовые, порядковые, относительные или интервальные (дискретные)? Кроме того, это поможет нам выбрать подходящие графики для визуализации.\n",
    "\n",
    "- Категориальные: Survived, Sex и Embarked. \n",
    "- Порядковые: Pclass."
   ]
  },
  {
   "cell_type": "markdown",
   "metadata": {},
   "source": [
    "<link rel=\"stylesheet\" type=\"text/css\" href=\"styles/styles.css\">\n",
    "\n",
    "##### _Какие признаки имеют смешанные типы данных?_\n",
    "\n",
    "Это признаки с числовыми и буквенно-числовыми данными в одном и том же признаке. Они первыми должны быть как-то преобразованиы или исключены.\n",
    "\n",
    "- Смешанные: Ticket, Cabin имеют буквенно-цифровой тип."
   ]
  },
  {
   "cell_type": "markdown",
   "metadata": {},
   "source": [
    "<link rel=\"stylesheet\" type=\"text/css\" href=\"styles/styles.css\">\n",
    "\n",
    "##### _Какие признаки содержат ошибки или опечатки?_\n",
    "\n",
    "В первую очередь это признаки с пропущенными значениями (NaN). Также могут быть признаки с ошибками и/или опечатками в написании, что может быть сложно определить при поверхностном исследовании.\n",
    "\n",
    "- Пропущенные значения: Age (714 non-null из 891), Cabin (204 non-null изи 891), Embarked (889 non-null из 891).\n",
    "- Ошибки/опечатки: Name может содержать ошибки и/или опечатки, так как существует несколько способов написания имени, включая титулы, круглые скобки и кавычки, используемые для альтернативных или коротких имен.\n",
    "\n",
    "Признаки Age, Fare и Cabin неполные также и для тестового набора данных."
   ]
  },
  {
   "cell_type": "markdown",
   "metadata": {},
   "source": [
    "<link rel=\"stylesheet\" type=\"text/css\" href=\"styles/styles.css\">\n",
    "\n",
    "##### _Какие типы данных у различных признаков?_\n",
    "\n",
    "- Семь признаков являются целыми числами или числами с плавающей запятой. Шесть в случае тестового набора данных.\n",
    "- Пять признаков являются строками (object)."
   ]
  },
  {
   "cell_type": "markdown",
   "metadata": {},
   "source": [
    "<link rel=\"stylesheet\" type=\"text/css\" href=\"styles/styles.css\">\n",
    "\n",
    "##### _Как распределены числовые и нечисловые признаки?_\n",
    "\n",
    "Распределение числовых признаков:\n",
    "\n",
    "- Всего в тренировочном наборе 891 образец, или 40% от фактического числа пассажиров на борту Титаника (всего 2224 пассажира).\n",
    "- Survived - это категориальный признак с значениями 0 или 1 (выжил или нет пассажир).\n",
    "- Около 38% (Survived: mean = 0.383838) пасажжиров в тренировочном наборе данных выжили, что близко к фактической выживаемости в 32% (772 пассажира из 2224).\n",
    "- Большинство пассажиров (>75%) путешествовали без родителей или детей (Parch: 75% = 0.000000).\n",
    "- Почти 30% пассажиров путешествовали с братьями и/или супругами на борту.\n",
    "- Стоимость билетов (Fare) значительно различалась, при этом очень мало пассажиров (<1%) которые заплатили такую высокую цену, как $512.\n",
    "- Мало пожилых пассажиров (<1%) в возрастном диапазоне 65-80 лет.\n",
    "\n",
    "Распределение нечисловых признаков:\n",
    "\n",
    "- Имена (Name) уникальны во всем наборе данных (Name: count = unique = 891).\n",
    "- Пол (Sex) имеет два возможных значения, преимущественно мужской пол (Sex: top = male, freq = 577 из count = 891).\n",
    "- Номер каюты (Cabin) одинаков у некоторых пассажиров. Предположительно некоторые пассажиры делили каюту.\n",
    "- Порт посадки пассажира (Embarked) принимает три возможных значения. Большинство пассажиров садились в порту Саутгемптон (Embarked: top = S).\n",
    "- Номер билета (Ticket) имеет высокий процент (22%) дублирующихся значений (Ticket: unique = 681)."
   ]
  },
  {
   "cell_type": "markdown",
   "metadata": {},
   "source": [
    "<link rel=\"stylesheet\" type=\"text/css\" href=\"styles/styles.css\">\n",
    "\n",
    "# 3. Подготовка данных (Feature Engineering)\n",
    "\n",
    "Итак мы завершили анализ данных и можем приступать к боле подробноуму изучению и анализу каждого признака с последующей обработкой, очисткой и/или созданием новых признаков на основе существующих."
   ]
  },
  {
   "cell_type": "markdown",
   "metadata": {},
   "source": [
    "<link rel=\"stylesheet\" type=\"text/css\" href=\"styles/styles.css\">\n",
    "\n",
    "### 3.1. Pclass (класс пассажира)\n",
    "\n",
    "В признаке Pclass нет пропущенных значений поэтому мы можем сразу приступить к его анализу. Посмотрим для начала долю выживших в каждом классе."
   ]
  },
  {
   "cell_type": "code",
   "execution_count": 84,
   "metadata": {},
   "outputs": [
    {
     "name": "stdout",
     "output_type": "stream",
     "text": [
      "   Pclass  Survived\n",
      "0       1  0.629630\n",
      "1       2  0.472826\n",
      "2       3  0.242363\n"
     ]
    }
   ],
   "source": [
    "# Выживаемость в разных классах пассажиров\n",
    "print(train[[\"Pclass\", \"Survived\"]].groupby([\"Pclass\"], as_index=False).mean())"
   ]
  },
  {
   "cell_type": "markdown",
   "metadata": {},
   "source": [
    "<link rel=\"stylesheet\" type=\"text/css\" href=\"styles/styles.css\">\n",
    "\n",
    "Давайте визуализируем общую картину выживаемости тренировочного набора данных. Для этого посмотрим график выживаемости в зависимости от класса пассажира для женщин и мужчин."
   ]
  },
  {
   "cell_type": "code",
   "execution_count": 85,
   "metadata": {},
   "outputs": [],
   "source": [
    "# Импорт библиотек для визуализации\n",
    "import matplotlib.pyplot as plt\n",
    "import seaborn as sns"
   ]
  },
  {
   "cell_type": "code",
   "execution_count": 86,
   "metadata": {},
   "outputs": [
    {
     "data": {
      "image/png": "[encoded data removed]",
      "text/plain": [
       "<Figure size 398x200 with 1 Axes>"
      ]
     },
     "metadata": {},
     "output_type": "display_data"
    }
   ],
   "source": [
    "# График зависимости выживаемости от класса пассажира для женщин и мужчин\n",
    "grid = sns.FacetGrid(train, height=2.0, aspect=1.5)\n",
    "grid.map(sns.pointplot, 'Pclass', 'Survived', 'Sex', palette='deep', order=[1, 2, 3], hue_order=['male', 'female'])\n",
    "grid.add_legend();"
   ]
  },
  {
   "cell_type": "markdown",
   "metadata": {},
   "source": [
    "<link rel=\"stylesheet\" type=\"text/css\" href=\"styles/styles.css\">\n",
    "\n",
    "В целом уже только этот график может нам очень многое объяснить:\n",
    "- Наибольшие шансы на выживание имели женщины пассажиры 1-го и 2-го классов.\n",
    "- Женщины пассажиры 3-го класса имели почти в два раза меньшие шансы на выживание чем женщины пассажиры 1-го и 2-го классов. \n",
    "- Мужчины имели гораздо меньшие шансы на выживание чем женщины.\n",
    "- Мужчины пассажиры 1-го класса имели все же более высокие шансы на выживание чем мужчины пассажиры 2-го и 3-го классов.\n",
    "\n",
    "Дальнейший анализ будем проводить исходя из вышеуказанного наблюдения и рассмотрим более детельно распределение выживших в разных категориях пассажиров. "
   ]
  },
  {
   "cell_type": "markdown",
   "metadata": {},
   "source": [
    "<link rel=\"stylesheet\" type=\"text/css\" href=\"styles/styles.css\">\n",
    "\n",
    "### 3.2. Sex (пол)\n",
    "\n",
    "В признаке Sex также нет пропущенных значений значит мы также можем сразу приступить к его анализу и посмотреть долю выживших среди женщин и мужчин для начала."
   ]
  },
  {
   "cell_type": "code",
   "execution_count": 87,
   "metadata": {},
   "outputs": [
    {
     "name": "stdout",
     "output_type": "stream",
     "text": [
      "      Sex  Survived\n",
      "0  female  0.742038\n",
      "1    male  0.188908\n"
     ]
    }
   ],
   "source": [
    "# Выживаемость женщин и мужчин\n",
    "print(train[[\"Sex\", \"Survived\"]].groupby([\"Sex\"], as_index=False).mean())"
   ]
  },
  {
   "cell_type": "markdown",
   "metadata": {},
   "source": [
    "<link rel=\"stylesheet\" type=\"text/css\" href=\"styles/styles.css\">\n",
    "\n",
    "Как было видно на графике выше, среди женщин выживших гораздо больше чем среди мужчин."
   ]
  },
  {
   "cell_type": "markdown",
   "metadata": {},
   "source": [
    "<link rel=\"stylesheet\" type=\"text/css\" href=\"styles/styles.css\">\n",
    "\n",
    "### 3.3. Name (имя, фамилия, титул)\n",
    "В признаке Name содержится много дополнительной информации. Изучим его более детально."
   ]
  },
  {
   "cell_type": "code",
   "execution_count": 88,
   "metadata": {},
   "outputs": [
    {
     "name": "stdout",
     "output_type": "stream",
     "text": [
      "0                                     Braund, Mr. Owen Harris\n",
      "1         Cumings, Mrs. John Bradley (Florence Briggs Thayer)\n",
      "2                                      Heikkinen, Miss. Laina\n",
      "3                Futrelle, Mrs. Jacques Heath (Lily May Peel)\n",
      "4                                    Allen, Mr. William Henry\n",
      "5                                            Moran, Mr. James\n",
      "6                                     McCarthy, Mr. Timothy J\n",
      "7                              Palsson, Master. Gosta Leonard\n",
      "8           Johnson, Mrs. Oscar W (Elisabeth Vilhelmina Berg)\n",
      "9                         Nasser, Mrs. Nicholas (Adele Achem)\n",
      "10                            Sandstrom, Miss. Marguerite Rut\n",
      "11                                   Bonnell, Miss. Elizabeth\n",
      "12                             Saundercock, Mr. William Henry\n",
      "13                                Andersson, Mr. Anders Johan\n",
      "14                       Vestrom, Miss. Hulda Amanda Adolfina\n",
      "15                            Hewlett, Mrs. (Mary D Kingcome)\n",
      "16                                       Rice, Master. Eugene\n",
      "17                               Williams, Mr. Charles Eugene\n",
      "18    Vander Planke, Mrs. Julius (Emelia Maria Vandemoortele)\n",
      "19                                    Masselmani, Mrs. Fatima\n",
      "20                                       Fynney, Mr. Joseph J\n",
      "21                                      Beesley, Mr. Lawrence\n",
      "22                                McGowan, Miss. Anna \"Annie\"\n",
      "23                               Sloper, Mr. William Thompson\n",
      "24                              Palsson, Miss. Torborg Danira\n",
      "Name: Name, dtype: object\n"
     ]
    }
   ],
   "source": [
    "# Признак Name\n",
    "pd.set_option('display.max_colwidth', 100)  # максимальная ширина колонки\n",
    "print(train[\"Name\"].head(25))"
   ]
  },
  {
   "cell_type": "markdown",
   "metadata": {},
   "source": [
    "<link rel=\"stylesheet\" type=\"text/css\" href=\"styles/styles.css\">\n",
    "\n",
    "Мы видим что в признаке Name помимо имени есть информация о фамилии (или фамилии семьи), титул, само имя и фамилия, девичья фамилия женщины в круглых скобках, а также короткое имя. Мы можем разделить признак Name на несколько отдельных признаков для более глубокого анализа и обработки."
   ]
  },
  {
   "cell_type": "code",
   "execution_count": 89,
   "metadata": {},
   "outputs": [],
   "source": [
    "# Импорт библиотеки для работы с регулярными выражениями\n",
    "import re"
   ]
  },
  {
   "cell_type": "code",
   "execution_count": 90,
   "metadata": {},
   "outputs": [
    {
     "name": "stdout",
     "output_type": "stream",
     "text": [
      "                                       Name     FamilyName   Title               FullName                  MaidenName ShortName\n",
      "0                   Braund, Mr. Owen Harris         Braund      Mr            Owen Harris                         NaN       NaN\n",
      "1   Cumings, Mrs. John Bradley (Florence...        Cumings     Mrs           John Bradley      Florence Briggs Thayer       NaN\n",
      "2                    Heikkinen, Miss. Laina      Heikkinen    Miss                  Laina                         NaN       NaN\n",
      "3   Futrelle, Mrs. Jacques Heath (Lily M...       Futrelle     Mrs          Jacques Heath               Lily May Peel       NaN\n",
      "4                  Allen, Mr. William Henry          Allen      Mr          William Henry                         NaN       NaN\n",
      "5                          Moran, Mr. James          Moran      Mr                  James                         NaN       NaN\n",
      "6                   McCarthy, Mr. Timothy J       McCarthy      Mr              Timothy J                         NaN       NaN\n",
      "7            Palsson, Master. Gosta Leonard        Palsson  Master          Gosta Leonard                         NaN       NaN\n",
      "8   Johnson, Mrs. Oscar W (Elisabeth Vil...        Johnson     Mrs                Oscar W   Elisabeth Vilhelmina Berg       NaN\n",
      "9       Nasser, Mrs. Nicholas (Adele Achem)         Nasser     Mrs               Nicholas                 Adele Achem       NaN\n",
      "10          Sandstrom, Miss. Marguerite Rut      Sandstrom    Miss         Marguerite Rut                         NaN       NaN\n",
      "11                 Bonnell, Miss. Elizabeth        Bonnell    Miss              Elizabeth                         NaN       NaN\n",
      "12           Saundercock, Mr. William Henry    Saundercock      Mr          William Henry                         NaN       NaN\n",
      "13              Andersson, Mr. Anders Johan      Andersson      Mr           Anders Johan                         NaN       NaN\n",
      "14     Vestrom, Miss. Hulda Amanda Adolfina        Vestrom    Miss  Hulda Amanda Adolfina                         NaN       NaN\n",
      "15          Hewlett, Mrs. (Mary D Kingcome)        Hewlett     Mrs                    NaN             Mary D Kingcome       NaN\n",
      "16                     Rice, Master. Eugene           Rice  Master                 Eugene                         NaN       NaN\n",
      "17             Williams, Mr. Charles Eugene       Williams      Mr         Charles Eugene                         NaN       NaN\n",
      "18  Vander Planke, Mrs. Julius (Emelia M...  Vander Planke     Mrs                 Julius  Emelia Maria Vandemoortele       NaN\n",
      "19                  Masselmani, Mrs. Fatima     Masselmani     Mrs                 Fatima                         NaN       NaN\n",
      "20                     Fynney, Mr. Joseph J         Fynney      Mr               Joseph J                         NaN       NaN\n",
      "21                    Beesley, Mr. Lawrence        Beesley      Mr               Lawrence                         NaN       NaN\n",
      "22              McGowan, Miss. Anna \"Annie\"        McGowan    Miss                   Anna                         NaN     Annie\n",
      "23             Sloper, Mr. William Thompson         Sloper      Mr       William Thompson                         NaN       NaN\n",
      "24            Palsson, Miss. Torborg Danira        Palsson    Miss         Torborg Danira                         NaN       NaN\n"
     ]
    }
   ],
   "source": [
    "# Делим признак Name на несколько признаков\n",
    "# Регулярное выражение для разделения строки Name на составляющие\n",
    "pattern = r\"([^,]+),\\s*([^.,]+)\\.\\s*(.*?)(?:\\(([^)]+)\\))?\\s*(?:\\\"([^\\\"]+)\\\")?$\"\n",
    "\n",
    "# Функция для разделения строки на подстроки\n",
    "def split_string(string: str) -> pd.Series:\n",
    "    result = re.match(pattern, string)\n",
    "    if result:\n",
    "        substrings = result.groups()\n",
    "        substrings = [s.strip() if isinstance(s, str) and s else np.NAN for s in substrings]\n",
    "        return pd.Series(substrings)\n",
    "    else:\n",
    "        return pd.NA\n",
    "\n",
    "# Новые признаки\n",
    "new_features = [\"FamilyName\", \"Title\", \"FullName\", \"MaidenName\", \"ShortName\"]\n",
    "for dataset in (train, test):\n",
    "    # Применяем функцию разделения строки к столбцу Name и создаем новые столбцы\n",
    "    dataset[new_features] = dataset[\"Name\"].apply(split_string)\n",
    "\n",
    "\n",
    "pd.set_option('display.max_colwidth', 40)  # максимальная ширина колонки\n",
    "print(train[[\"Name\", \"FamilyName\", \"Title\", \"FullName\", \"MaidenName\", \"ShortName\"]].head(25))"
   ]
  },
  {
   "cell_type": "markdown",
   "metadata": {},
   "source": [
    "<link rel=\"stylesheet\" type=\"text/css\" href=\"styles/styles.css\">\n",
    "\n",
    "Удалим ненужный теперь признак Name. Также удалим колонки в которых много пропускрв и/или которые очевидно напрямую не могут влиять на выживаемость. Колонку FamilyName пока оставим для дальнейшего анализа. "
   ]
  },
  {
   "cell_type": "code",
   "execution_count": 91,
   "metadata": {},
   "outputs": [
    {
     "name": "stdout",
     "output_type": "stream",
     "text": [
      "   PassengerId  Survived  Pclass     Sex   Age  SibSp  Parch            Ticket     Fare Embarked FamilyName Title\n",
      "0            1         0       3    male  22.0      1      0         A/5 21171   7.2500        S     Braund    Mr\n",
      "1            2         1       1  female  38.0      1      0          PC 17599  71.2833        C    Cumings   Mrs\n",
      "2            3         1       3  female  26.0      0      0  STON/O2. 3101282   7.9250        S  Heikkinen  Miss\n",
      "3            4         1       1  female  35.0      1      0            113803  53.1000        S   Futrelle   Mrs\n",
      "4            5         0       3    male  35.0      0      0            373450   8.0500        S      Allen    Mr\n"
     ]
    }
   ],
   "source": [
    "# Удаление ненужных признаков\n",
    "for dataset in (train, test):\n",
    "    # Удаление принзака Name\n",
    "    dataset.drop(columns=[\"Name\"], inplace=True)\n",
    "\n",
    "    # Удаляем колонок в которых много пропускрв и/или которые очевидно напрямую не могут влиять на выживаемость\n",
    "    dataset.drop(columns=[\"FullName\", \"MaidenName\", \"ShortName\"], inplace=True)\n",
    "\n",
    "pd.set_option('display.max_colwidth', 30)  # максимальная ширина колонки\n",
    "print(train.head())"
   ]
  },
  {
   "cell_type": "markdown",
   "metadata": {},
   "source": [
    "<link rel=\"stylesheet\" type=\"text/css\" href=\"styles/styles.css\">\n",
    "\n",
    "Продолжим обработку полученных признаков. Обработаем дополнительно признак Title. Заменим или откорректируем редкие значения."
   ]
  },
  {
   "cell_type": "code",
   "execution_count": 92,
   "metadata": {},
   "outputs": [
    {
     "name": "stdout",
     "output_type": "stream",
     "text": [
      "Полный набор данных:\n",
      "Sex           female  male\n",
      "Title                     \n",
      "Capt               0     1\n",
      "Col                0     4\n",
      "Don                0     1\n",
      "Dona               1     0\n",
      "Dr                 1     7\n",
      "Jonkheer           0     1\n",
      "Lady               1     0\n",
      "Major              0     2\n",
      "Master             0    61\n",
      "Miss             260     0\n",
      "Mlle               2     0\n",
      "Mme                1     0\n",
      "Mr                 0   757\n",
      "Mrs              197     0\n",
      "Ms                 2     0\n",
      "Rev                0     8\n",
      "Sir                0     1\n",
      "the Countess       1     0\n"
     ]
    }
   ],
   "source": [
    "# Сводная таблица получившегося признака Title и признака Sex\n",
    "data = pd.concat((train, test), ignore_index=True)\n",
    "print('Полный набор данных:')\n",
    "print(pd.crosstab(data[\"Title\"], data[\"Sex\"]))"
   ]
  },
  {
   "cell_type": "code",
   "execution_count": 93,
   "metadata": {},
   "outputs": [
    {
     "name": "stdout",
     "output_type": "stream",
     "text": [
      "Полный набор данных:\n",
      "Sex     female  male\n",
      "Title               \n",
      "Master       0    61\n",
      "Miss       265     0\n",
      "Mr           0   774\n",
      "Mrs        201     0\n",
      "Rev          0     8\n"
     ]
    }
   ],
   "source": [
    "# Корректировка значений Title\n",
    "for dataset in (train, test):\n",
    "    dataset[\"Title\"] = dataset[\"Title\"].replace(\"Capt\", \"Mr\")                                   # капитан (военные)\n",
    "    dataset[\"Title\"] = dataset[\"Title\"].replace(\"Col\", \"Mr\")                                    # полковник (военные)\n",
    "    dataset[\"Title\"] = dataset[\"Title\"].replace(\"Major\", \"Mr\")                                  # майор (военные)\n",
    "    dataset[\"Title\"] = dataset[\"Title\"].replace(\"Don\", \"Mr\")                                    # мужчина\n",
    "    dataset[\"Title\"] = dataset[\"Title\"].replace(\"Jonkheer\", \"Mr\")                               # мужчина\n",
    "    dataset[\"Title\"] = dataset[\"Title\"].replace(\"Sir\", \"Mr\")                                    # мужчина\n",
    "    dataset[\"Title\"] = dataset[\"Title\"].replace(\"Mlle\", \"Miss\")                                 # женщина незамужем\n",
    "    dataset[\"Title\"] = dataset[\"Title\"].replace(\"Ms\", \"Miss\")                                   # женщина незамужем\n",
    "    dataset[\"Title\"] = dataset[\"Title\"].replace(\"Mme\", \"Mrs\")                                   # женщина замужем\n",
    "    dataset[\"Title\"] = dataset[\"Title\"].replace(\"Lady\", \"Mrs\")                                  # женщина замужем?\n",
    "    dataset[\"Title\"] = dataset[\"Title\"].replace(\"Dona\", \"Mrs\")                                  # женщина замужем?\n",
    "    dataset[\"Title\"] = dataset[\"Title\"].replace(\"the Countess\", \"Mrs\")                          # женщина замужем\n",
    "    dataset.loc[(dataset[\"Title\"] == \"Dr\") & (dataset[\"Sex\"] == \"male\"), \"Title\"] = \"Mr\"        # врачи мужчины\n",
    "    dataset.loc[(dataset['Title'] == \"Dr\") & (dataset[\"Sex\"] == \"female\"), \"Title\"] = \"Miss\"    # врачи женщины\n",
    "\n",
    "# Сводная таблица получившегося признака Title и признака Sex\n",
    "data = pd.concat((train, test), ignore_index=True)\n",
    "print('Полный набор данных:')\n",
    "print(pd.crosstab(data[\"Title\"], data[\"Sex\"]))"
   ]
  },
  {
   "cell_type": "code",
   "execution_count": 94,
   "metadata": {},
   "outputs": [
    {
     "name": "stdout",
     "output_type": "stream",
     "text": [
      "    Title  Survived\n",
      "0  Master  0.575000\n",
      "1    Miss  0.704301\n",
      "2      Mr  0.161959\n",
      "3     Mrs  0.796875\n",
      "4     Rev  0.000000\n"
     ]
    }
   ],
   "source": [
    "# Соотношение выживших в Title и Survived\n",
    "print(train[[\"Title\", \"Survived\"]].groupby([\"Title\"], as_index=False).mean())"
   ]
  },
  {
   "cell_type": "code",
   "execution_count": 95,
   "metadata": {},
   "outputs": [
    {
     "data": {
      "image/png": "[encoded data removed]",
      "text/plain": [
       "<Figure size 398x1000 with 5 Axes>"
      ]
     },
     "metadata": {},
     "output_type": "display_data"
    }
   ],
   "source": [
    "# Визуализируем соотношение выживших в группах с разными титулами \n",
    "grid = sns.FacetGrid(train, row=\"Title\", height=2, aspect=1.5)\n",
    "grid.map(sns.pointplot, \"Pclass\", \"Survived\", \"Sex\", palette=\"deep\", order=[1, 2, 3], hue_order=[\"male\", \"female\"])\n",
    "grid.add_legend();"
   ]
  },
  {
   "cell_type": "markdown",
   "metadata": {},
   "source": [
    "<link rel=\"stylesheet\" type=\"text/css\" href=\"styles/styles.css\">\n",
    "\n",
    "Так как у нас есть данные о мальчиках до 16 лет (Master), можно также дополнительно определить группу девочек до 16 лет из группы Miss и изменить Title этой подгруппы на Young Miss. Возможно это будет не лишним. Итак выделим и проанализируем данную подгруппу."
   ]
  },
  {
   "cell_type": "code",
   "execution_count": 96,
   "metadata": {},
   "outputs": [],
   "source": [
    "# Создаем титул Young Miss в признаке Title для пассажиров женского пола до 16 лет\n",
    "for dataset in (train, test):\n",
    "    dataset.loc[(dataset[\"Age\"] < 16) & (dataset[\"Title\"] == \"Miss\"), \"Title\"] = \"Young Miss\""
   ]
  },
  {
   "cell_type": "code",
   "execution_count": 97,
   "metadata": {},
   "outputs": [
    {
     "name": "stdout",
     "output_type": "stream",
     "text": [
      "Полный набор данных:\n",
      "Pclass\n",
      "1     3\n",
      "2    15\n",
      "3    36\n",
      "dtype: int64\n"
     ]
    }
   ],
   "source": [
    "# Кол-во девочек в каждом классе Pclass\n",
    "data = pd.concat((train, test), ignore_index=True)\n",
    "young_miss_count = data[data[\"Title\"] == \"Young Miss\"][[\"Pclass\", \"Survived\"]].groupby(\"Pclass\").size()\n",
    "print('Полный набор данных:')\n",
    "print(young_miss_count)"
   ]
  },
  {
   "cell_type": "code",
   "execution_count": 98,
   "metadata": {},
   "outputs": [
    {
     "name": "stdout",
     "output_type": "stream",
     "text": [
      "        Survived\n",
      "Pclass          \n",
      "1       0.666667\n",
      "2       1.000000\n",
      "3       0.517241\n"
     ]
    }
   ],
   "source": [
    "# Соотношение выживших для девочек по классам Pclass\n",
    "young_miss_survival = train[train[\"Title\"] == \"Young Miss\"][[\"Pclass\", \"Survived\"]].groupby(\"Pclass\").mean()\n",
    "print(young_miss_survival)"
   ]
  },
  {
   "cell_type": "code",
   "execution_count": 99,
   "metadata": {},
   "outputs": [
    {
     "name": "stdout",
     "output_type": "stream",
     "text": [
      "Полный набор данных:\n",
      "Sex         female  male\n",
      "Title                   \n",
      "Master           0    61\n",
      "Miss           211     0\n",
      "Mr               0   774\n",
      "Mrs            201     0\n",
      "Rev              0     8\n",
      "Young Miss      54     0\n"
     ]
    }
   ],
   "source": [
    "# Сводная таблица признака Title и признака Sex\n",
    "print('Полный набор данных:')\n",
    "print(pd.crosstab(data[\"Title\"], data[\"Sex\"]))"
   ]
  },
  {
   "cell_type": "code",
   "execution_count": 100,
   "metadata": {},
   "outputs": [
    {
     "data": {
      "text/plain": [
       "'# Кол-во пассажиров в каждой группе и средней выживаемости с группировкой по признакам Title и Pclass \\ntitle_pclass_survival = train.groupby([\"Title\", \"Pclass\"]).agg({\\'Survived\\': \\'mean\\', \\'PassengerId\\': \\'count\\'}).reset_index()\\ntitle_pclass_survival.rename(columns={\\'PassengerId\\': \\'Count\\'}, inplace=True)\\n\\nprint(title_pclass_survival)'"
      ]
     },
     "execution_count": 100,
     "metadata": {},
     "output_type": "execute_result"
    }
   ],
   "source": [
    "'''# Кол-во пассажиров в каждой группе и средней выживаемости с группировкой по признакам Title и Pclass \n",
    "title_pclass_survival = train.groupby([\"Title\", \"Pclass\"]).agg({'Survived': 'mean', 'PassengerId': 'count'}).reset_index()\n",
    "title_pclass_survival.rename(columns={'PassengerId': 'Count'}, inplace=True)\n",
    "\n",
    "print(title_pclass_survival)'''"
   ]
  },
  {
   "cell_type": "code",
   "execution_count": 101,
   "metadata": {},
   "outputs": [
    {
     "data": {
      "image/png": "[encoded data removed]",
      "text/plain": [
       "<Figure size 398x1200 with 6 Axes>"
      ]
     },
     "metadata": {},
     "output_type": "display_data"
    }
   ],
   "source": [
    "# Визуализация соотношения выживших в группах с разными титулами \n",
    "grid = sns.FacetGrid(train, row='Title', height=2, aspect=1.5)\n",
    "grid.map(sns.pointplot, 'Pclass', 'Survived', 'Sex', palette='deep', order=[1, 2, 3], hue_order=[\"male\", \"female\"])\n",
    "grid.add_legend();"
   ]
  },
  {
   "cell_type": "code",
   "execution_count": 102,
   "metadata": {},
   "outputs": [
    {
     "data": {
      "image/png": "[encoded data removed]",
      "text/plain": [
       "<Figure size 1000x500 with 1 Axes>"
      ]
     },
     "metadata": {},
     "output_type": "display_data"
    }
   ],
   "source": [
    "# Визуализация соотношения выживших в группах с разными титулами \n",
    "title_pclass_survival = train.groupby([\"Title\", \"Pclass\"])[\"Survived\"].mean().reset_index()\n",
    "\n",
    "# Сортировка столбцов по убыванию в каждой группе\n",
    "title_pclass_survival = title_pclass_survival.sort_values(by=[\"Pclass\", \"Survived\"], ascending=[True, False])\n",
    "\n",
    "# Создание графика\n",
    "plt.figure(figsize=(10, 5))\n",
    "sns.barplot(data=title_pclass_survival, x=\"Pclass\", y=\"Survived\", hue=\"Title\")\n",
    "\n",
    "# Настройка графика\n",
    "plt.xlabel(\"Pclass\")\n",
    "plt.ylabel(\"Survived (mean)\")\n",
    "plt.title(\"Survival Rate by Title and Pclass\")\n",
    "\n",
    "# Отображение графика\n",
    "plt.grid(True)\n",
    "plt.legend(title=\"Title\")\n",
    "plt.show()"
   ]
  },
  {
   "cell_type": "markdown",
   "metadata": {},
   "source": [
    "<link rel=\"stylesheet\" type=\"text/css\" href=\"styles/styles.css\">\n",
    "\n",
    "Итак что мы можем подвердить и добавить к первоначальному наблюдению основываясь на проведенном анализе признака Title полученного из признака Name:\n",
    "\n",
    "- (Подверждено) Наибольшие шансы на выживание имели женщины пассажиры 1-го и 2-го классов. \n",
    "- (Подверждено) Женщины пассажиры 3-го класса имели почти в два раза меньшие шансы на выживание чем женщины пассажиры 1-го и 2-го классов. \n",
    "- (Подверждено) Мужчины имели гораздо меньшие шансы на выживание чем женщины.\n",
    "- (Подверждено) Мужчины пассажиры 1-го класса имели все же более высокие шансы на выживание чем мужчины пассажиры 2-го и 3-го классов.\n",
    "- Мальчики (Master) пассажиры 1-го и 2-го имели в два раза большие шансы выжить чем мальчики пассажиры 3-го класса.\n",
    "- Мальчики (Master) пассажиры 3-го имели не намного большие шансы выжить чем мужчины пассадиры 1-го класса.\n",
    "- Ни один священник (Rev) не выжил. Кол-во священников очень малое (<1%) поэтому не будет влиять на результат предсказания, но как факт весьма интересно.\n",
    "\n",
    "В целом предположение о том что более богатые и привилегилированные пассажиры имели гораздо большие шансы выжить подверждено. Также в новой подгруппе с титулом \"Young Miss\" общая картина сохраняется, в первом классе всего 3 девочки, что недостаточно для получения статистически корректных данных. Класс 2 и 3 подверждают начальное предположение о выживаемости. Пассажиры девочки (<16 лет) 2-го класса выжили все, в отличии от пассажиров девочек 3-го класса, где выжило всего 50%.\n",
    "\n",
    "Продолжим анализировать данные исходя их вышеуказанных наблюдений. После детального изучения признака Age мы сможем дополнить и еще раз изучить распределения выживших/не выживших по классам, титулам и полу."
   ]
  },
  {
   "cell_type": "markdown",
   "metadata": {},
   "source": [
    "<link rel=\"stylesheet\" type=\"text/css\" href=\"styles/styles.css\">\n",
    "\n",
    "### _3.4. Age (возраст)_\n",
    "\n",
    "Итак приступаем к изучению признака Age. Мы знаем, что в признаке Age есть пропущенные значения. Для начала их нужно заполнить. Будем заполнять исходя из медианных значений соответствующий возрастных групп. Например Title = \"Master\" это мальчики до 16 лет. Title = \"Mr\" это взрослые мужчины начиная с 16 лет включительно и т.д."
   ]
  },
  {
   "cell_type": "code",
   "execution_count": 103,
   "metadata": {},
   "outputs": [
    {
     "name": "stdout",
     "output_type": "stream",
     "text": [
      "Полный набор данных:\n",
      "count    1046.000000\n",
      "mean       29.881138\n",
      "std        14.413493\n",
      "min         0.170000\n",
      "25%        21.000000\n",
      "50%        28.000000\n",
      "75%        39.000000\n",
      "max        80.000000\n",
      "Name: Age, dtype: float64\n"
     ]
    }
   ],
   "source": [
    "# Распределение числовых значений признака Age\n",
    "data = pd.concat((train, test), ignore_index=True)\n",
    "print('Полный набор данных:')\n",
    "print(data[\"Age\"].describe())"
   ]
  },
  {
   "cell_type": "code",
   "execution_count": 104,
   "metadata": {},
   "outputs": [
    {
     "name": "stdout",
     "output_type": "stream",
     "text": [
      "      PassengerId  Age   Title\n",
      "65             66  NaN  Master\n",
      "159           160  NaN  Master\n",
      "176           177  NaN  Master\n",
      "709           710  NaN  Master\n",
      "1135         1136  NaN  Master\n"
     ]
    }
   ],
   "source": [
    "# Пропущенные значения признака Title = \"Master\"\n",
    "# Запоминаем индексы пропущенных значений возраста для Title = \"Master\"\n",
    "null_index = data[(data[\"Title\"] == \"Master\") & data[\"Age\"].isnull()].index\n",
    "print(data[[\"PassengerId\", \"Age\", \"Title\"]].loc[null_index].head())"
   ]
  },
  {
   "cell_type": "code",
   "execution_count": 105,
   "metadata": {},
   "outputs": [
    {
     "name": "stdout",
     "output_type": "stream",
     "text": [
      "      PassengerId  Age   Title\n",
      "65             66  5.0  Master\n",
      "159           160  7.0  Master\n",
      "176           177  6.0  Master\n",
      "709           710  6.0  Master\n",
      "1135         1136  6.0  Master\n"
     ]
    }
   ],
   "source": [
    "# Заполнение пропусков в признаке Age у Title = \"Master\" (< 16 лет)\n",
    "# Считаем средний возраст и стандартное отклонение для Title = \"Master\"\n",
    "age_avg = data.loc[data[\"Title\"] == \"Master\", \"Age\"].mean()\n",
    "age_std = data.loc[data[\"Title\"] == \"Master\", \"Age\"].std()\n",
    "\n",
    "# Количество пропущенных значений возраста для Title = \"Master\"\n",
    "age_null_count = data.loc[(data[\"Title\"] == \"Master\") & data[\"Age\"].isnull(), \"Age\"].shape[0]\n",
    "\n",
    "# Генерируем случайные значения для заполнения пропусков\n",
    "age_null_random_list = np.random.randint(age_avg - age_std, age_avg + age_std, size=age_null_count)\n",
    "\n",
    "# Заменяем пропуски только для объектов с Title = \"Master\"\n",
    "data.loc[(data[\"Title\"] == \"Master\") & data[\"Age\"].isnull(), \"Age\"] = age_null_random_list\n",
    "\n",
    "# Прверяем пропущенные значения признака Title = \"Master\"\n",
    "print(data[[\"PassengerId\", \"Age\", \"Title\"]].loc[null_index].head())"
   ]
  },
  {
   "cell_type": "code",
   "execution_count": 106,
   "metadata": {},
   "outputs": [
    {
     "name": "stdout",
     "output_type": "stream",
     "text": [
      "    PassengerId  Age Title\n",
      "5             6  NaN    Mr\n",
      "17           18  NaN    Mr\n",
      "26           27  NaN    Mr\n",
      "29           30  NaN    Mr\n",
      "36           37  NaN    Mr\n"
     ]
    }
   ],
   "source": [
    "# Пропущенные значения признака Title = \"Mr\"\n",
    "# Запоминаем индексы пропущенных значений возраста для Title = \"Master\"\n",
    "null_index = data[(data[\"Title\"] == \"Mr\") & data[\"Age\"].isnull()].index\n",
    "print(data[[\"PassengerId\", \"Age\", \"Title\"]].loc[null_index].head())"
   ]
  },
  {
   "cell_type": "code",
   "execution_count": 107,
   "metadata": {},
   "outputs": [
    {
     "name": "stdout",
     "output_type": "stream",
     "text": [
      "    PassengerId   Age Title\n",
      "5             6  33.0    Mr\n",
      "17           18  34.0    Mr\n",
      "26           27  25.0    Mr\n",
      "29           30  24.0    Mr\n",
      "36           37  34.0    Mr\n"
     ]
    }
   ],
   "source": [
    "# Заполнение пропусков в признаке Age у Title = \"Mr\" (> 16 лет)\n",
    "# Считаем средний возраст и стандартное отклонение для Title = \"Mr\"\n",
    "age_avg = data.loc[data[\"Title\"] == \"Mr\", \"Age\"].mean()\n",
    "age_std = data.loc[data[\"Title\"] == \"Mr\", \"Age\"].std()\n",
    "\n",
    "# Количество пропущенных значений возраста для Title = \"Mr\"\n",
    "age_null_count = data.loc[(data[\"Title\"] == \"Mr\") & data[\"Age\"].isnull(), \"Age\"].shape[0]\n",
    "\n",
    "# Генерируем случайные значения для заполнения пропусков\n",
    "age_null_random_list = np.random.randint(age_avg - age_std, age_avg + age_std, size=age_null_count)\n",
    "\n",
    "# Заменяем пропуски только для объектов с Title = \"Mr\"\n",
    "data.loc[(data[\"Title\"] == \"Mr\") & data[\"Age\"].isnull(), \"Age\"] = age_null_random_list\n",
    "\n",
    "# Прверяем пропущенные значения признака Title = \"Mr\"\n",
    "print(data[[\"PassengerId\", \"Age\", \"Title\"]].loc[null_index].head())"
   ]
  },
  {
   "cell_type": "code",
   "execution_count": 108,
   "metadata": {},
   "outputs": [
    {
     "name": "stdout",
     "output_type": "stream",
     "text": [
      "     PassengerId  Age Title\n",
      "28            29  NaN  Miss\n",
      "32            33  NaN  Miss\n",
      "47            48  NaN  Miss\n",
      "82            83  NaN  Miss\n",
      "109          110  NaN  Miss\n"
     ]
    }
   ],
   "source": [
    "# Пропущенные значения признака Title = \"Miss\"\n",
    "# Запоминаем индексы пропущенных значений возраста для Title = \"Miss\"\n",
    "null_index = data[(data[\"Title\"] == \"Miss\") & data[\"Age\"].isnull()].index\n",
    "print(data[[\"PassengerId\", \"Age\", \"Title\"]].loc[null_index].head())"
   ]
  },
  {
   "cell_type": "code",
   "execution_count": 109,
   "metadata": {},
   "outputs": [
    {
     "name": "stdout",
     "output_type": "stream",
     "text": [
      "     PassengerId   Age Title\n",
      "28            29  32.0  Miss\n",
      "32            33  23.0  Miss\n",
      "47            48  21.0  Miss\n",
      "82            83  33.0  Miss\n",
      "109          110  24.0  Miss\n"
     ]
    }
   ],
   "source": [
    "# Заполнение пропусков в признаке Age у Title = \"Miss\" (> 16 лет)\n",
    "# Считаем средний возраст и стандартное отклонение для Title = \"Miss\"\n",
    "age_avg = data.loc[data[\"Title\"] == \"Miss\", \"Age\"].mean()\n",
    "age_std = data.loc[data[\"Title\"] == \"Miss\", \"Age\"].std()\n",
    "\n",
    "# Количество пропущенных значений возраста для Title = \"Miss\"\n",
    "age_null_count = data.loc[(data[\"Title\"] == \"Miss\") & data[\"Age\"].isnull(), \"Age\"].shape[0]\n",
    "\n",
    "# Генерируем случайные значения для заполнения пропусков\n",
    "age_null_random_list = np.random.randint(age_avg - age_std, age_avg + age_std, size=age_null_count)\n",
    "\n",
    "# Заменяем пропуски только для объектов с Title = \"Miss\"\n",
    "data.loc[(data[\"Title\"] == \"Miss\") & data[\"Age\"].isnull(), \"Age\"] = age_null_random_list\n",
    "\n",
    "# Прверяем пропущенные значения признака Title = \"Miss\"\n",
    "print(data[[\"PassengerId\", \"Age\", \"Title\"]].loc[null_index].head())"
   ]
  },
  {
   "cell_type": "code",
   "execution_count": 110,
   "metadata": {},
   "outputs": [
    {
     "name": "stdout",
     "output_type": "stream",
     "text": [
      "     PassengerId  Age Title\n",
      "19            20  NaN   Mrs\n",
      "31            32  NaN   Mrs\n",
      "140          141  NaN   Mrs\n",
      "166          167  NaN   Mrs\n",
      "186          187  NaN   Mrs\n"
     ]
    }
   ],
   "source": [
    "# Пропущенные значения признака Title = \"Mrs\"\n",
    "# Запоминаем индексы пропущенных значений возраста для Title = \"Mrs\"\n",
    "null_index = data[(data[\"Title\"] == \"Mrs\") & data[\"Age\"].isnull()].index\n",
    "print(data[[\"PassengerId\", \"Age\", \"Title\"]].loc[null_index].head())"
   ]
  },
  {
   "cell_type": "code",
   "execution_count": 111,
   "metadata": {},
   "outputs": [
    {
     "name": "stdout",
     "output_type": "stream",
     "text": [
      "     PassengerId   Age Title\n",
      "19            20  39.0   Mrs\n",
      "31            32  42.0   Mrs\n",
      "140          141  36.0   Mrs\n",
      "166          167  25.0   Mrs\n",
      "186          187  30.0   Mrs\n"
     ]
    }
   ],
   "source": [
    "# Заполнение пропусков в признаке Age у Title = \"Mrs\" (> 16 лет)\n",
    "# Считаем средний возраст и стандартное отклонение для Title = \"Mrs\"\n",
    "age_avg = data.loc[data[\"Title\"] == \"Mrs\", \"Age\"].mean()\n",
    "age_std = data.loc[data[\"Title\"] == \"Mrs\", \"Age\"].std()\n",
    "\n",
    "# Количество пропущенных значений возраста для Title = \"Mrs\"\n",
    "age_null_count = data.loc[(data[\"Title\"] == \"Mrs\") & data[\"Age\"].isnull(), \"Age\"].shape[0]\n",
    "\n",
    "# Генерируем случайные значения для заполнения пропусков\n",
    "age_null_random_list = np.random.randint(age_avg - age_std, age_avg + age_std, size=age_null_count)\n",
    "\n",
    "# Заменяем пропуски только для объектов с Title = \"Mrs\"\n",
    "data.loc[(data[\"Title\"] == \"Mrs\") & data[\"Age\"].isnull(), \"Age\"] = age_null_random_list\n",
    "\n",
    "# Прверяем пропущенные значения признака Title = \"Mrs\"\n",
    "print(data[[\"PassengerId\", \"Age\", \"Title\"]].loc[null_index].head())"
   ]
  },
  {
   "cell_type": "code",
   "execution_count": 112,
   "metadata": {},
   "outputs": [
    {
     "name": "stdout",
     "output_type": "stream",
     "text": [
      "Empty DataFrame\n",
      "Columns: [PassengerId, Age, Title]\n",
      "Index: []\n"
     ]
    }
   ],
   "source": [
    "# Пропущенные значения признака Title = \"Rev\"\n",
    "# Запоминаем индексы пропущенных значений возраста для Title = \"Rev\"\n",
    "null_index = data[(data[\"Title\"] == \"Rev\") & data[\"Age\"].isnull()].index\n",
    "print(data[[\"PassengerId\", \"Age\", \"Title\"]].loc[null_index].head())"
   ]
  },
  {
   "cell_type": "markdown",
   "metadata": {},
   "source": [
    "<link rel=\"stylesheet\" type=\"text/css\" href=\"styles/styles.css\">\n",
    "\n",
    "У титула \"Rev\" не пропущенных значений. И так как титул Young Miss мы создавали на основании возраста, то очевидно что в нем не может быть пропущенных значений."
   ]
  },
  {
   "cell_type": "code",
   "execution_count": 113,
   "metadata": {},
   "outputs": [
    {
     "name": "stdout",
     "output_type": "stream",
     "text": [
      "     PassengerId  Survived  Pclass     Sex   Age  SibSp  Parch  Ticket     Fare Embarked FamilyName Title\n",
      "9             10         1       2  female  14.0      1      0  237736  30.0708        C     Nasser   Mrs\n",
      "830          831         1       3  female  15.0      1      0    2659  14.4542        C    Yasbeck   Mrs\n"
     ]
    }
   ],
   "source": [
    "print(data[(data[\"Title\"] == \"Mrs\") & (data[\"Age\"] < 16)])"
   ]
  },
  {
   "cell_type": "code",
   "execution_count": 114,
   "metadata": {},
   "outputs": [
    {
     "name": "stdout",
     "output_type": "stream",
     "text": [
      "count    1309.000000\n",
      "mean       29.998220\n",
      "std        13.469931\n",
      "min         0.170000\n",
      "25%        22.000000\n",
      "50%        29.000000\n",
      "75%        38.000000\n",
      "max        80.000000\n",
      "Name: Age, dtype: float64\n"
     ]
    }
   ],
   "source": [
    "# Распределение числовых значений признака Age\n",
    "print(data[\"Age\"].describe())"
   ]
  },
  {
   "cell_type": "markdown",
   "metadata": {},
   "source": [
    "<link rel=\"stylesheet\" type=\"text/css\" href=\"styles/styles.css\">\n",
    "\n",
    "В признаке Age было довольно много пропущенных значений поэтому не будем его глубоко анализировать. Он просто будет разделен на категории."
   ]
  },
  {
   "cell_type": "code",
   "execution_count": 115,
   "metadata": {},
   "outputs": [
    {
     "name": "stdout",
     "output_type": "stream",
     "text": [
      "  CategoricalAge  Survived PassengerCount\n",
      "0    [0.0, 16.0)  0.586207             87\n",
      "1   [16.0, 32.0)  0.346330            436\n",
      "2   [32.0, 48.0)  0.366906            278\n",
      "3   [48.0, 64.0)  0.480519             77\n",
      "4  [64.0, 80.08)  0.076923             13\n"
     ]
    }
   ],
   "source": [
    "# Делим значения признака Age на 5 диапазонов\n",
    "data[\"Age\"] = data[\"Age\"].round().astype(int)\n",
    "data[\"CategoricalAge\"] = pd.cut(data[\"Age\"], 5, right=False)\n",
    "\n",
    "# Разделяем данные на обучающий и тестовый наборы\n",
    "train = data.iloc[:891].reset_index(drop=True)\n",
    "test = data.iloc[891:].reset_index(drop=True)\n",
    "\n",
    "# Количество пассажиров в каждом диапазоне возраста\n",
    "age_passenger_count = train[\"CategoricalAge\"].value_counts()\n",
    "\n",
    "# Корреляция CategoricalAge и Survived\n",
    "correlation = train[[\"CategoricalAge\", \"Survived\"]].groupby([\"CategoricalAge\"], as_index=False).mean()\n",
    "\n",
    "# Добавление количества пассажиров в каждом диапазоне возраста\n",
    "correlation[\"PassengerCount\"] = correlation[\"CategoricalAge\"].map(age_passenger_count)\n",
    "\n",
    "print(correlation)"
   ]
  },
  {
   "cell_type": "markdown",
   "metadata": {},
   "source": [
    "<link rel=\"stylesheet\" type=\"text/css\" href=\"styles/styles.css\">\n",
    "\n",
    "### _3.5. Fare (стоимость)_\n",
    "\n",
    "Можно предположить, что признак Fare должен коррелировать с выживаемостью примерно так же как признак Pclass. Стоимость билета наверняка зависела от класса. В первом классе наверняка билеты стоили дороже чем в третьем. И можно было бы разбить стоимость на диаппазоны, но возможно стоит рассматривать стоимость билета с привязкой к классу билета, и проверить была ли какая-то корреляция стоимости билета и выживаемостью внутри каждого класса. К тому же в разных классах есть билеты с одинаковой стоимостью. Мы также разобъем признак Fare на диапазоны, но так как Fare это стоимость билета, а в билет может быть вписано несколько человек (семья например), то перед этим мы рассчитаем стоимость на одного человека. \n",
    "\n",
    "Для начала заполним отсутствующие значения признака Fare. Такое значение всего одно, поэтому глубоко анализировать его нет смысла. Посмотрим просто был ли этот пассажир один или путешествовал с кем-то."
   ]
  },
  {
   "cell_type": "code",
   "execution_count": 116,
   "metadata": {},
   "outputs": [
    {
     "name": "stdout",
     "output_type": "stream",
     "text": [
      "      PassengerId  Fare Ticket\n",
      "1043         1044   NaN   3701\n"
     ]
    }
   ],
   "source": [
    "# Пропущенные значения признака Fare с номером билета Ticket\n",
    "data = pd.concat((train, test), ignore_index=True)\n",
    "missing_fare = data[data['Fare'].isnull()]\n",
    "print(missing_fare[[\"PassengerId\", \"Fare\", \"Ticket\"]])"
   ]
  },
  {
   "cell_type": "code",
   "execution_count": 117,
   "metadata": {},
   "outputs": [
    {
     "name": "stdout",
     "output_type": "stream",
     "text": [
      "      PassengerId Ticket\n",
      "1043         1044   3701\n"
     ]
    }
   ],
   "source": [
    "# Пассажиры с Ticket = \"3701\"\n",
    "ticket = data[data[\"Ticket\"] == \"3701\"]\n",
    "print(ticket[[\"PassengerId\", \"Ticket\"]])"
   ]
  },
  {
   "cell_type": "markdown",
   "metadata": {},
   "source": [
    "<link rel=\"stylesheet\" type=\"text/css\" href=\"styles/styles.css\">\n",
    "\n",
    "Пассажир был один, поэтому просто заполним значение Fare для этого пассажира медианным значением стоимости билета в его классе."
   ]
  },
  {
   "cell_type": "code",
   "execution_count": 118,
   "metadata": {},
   "outputs": [
    {
     "name": "stdout",
     "output_type": "stream",
     "text": [
      "      PassengerId  Fare\n",
      "1043         1044   NaN\n"
     ]
    }
   ],
   "source": [
    "# Заполняем отсутстующие значения Fare\n",
    "# Вычисление медианы стоимости билетов для пассажиров 3-го класса\n",
    "median_fare_pclass_3 = data[data[\"Pclass\"] == 3][\"Fare\"].median()\n",
    "\n",
    "# Заполнение пропущенного значения медианным значением\n",
    "data.loc[(data[\"Pclass\"] == 3) & data[\"Fare\"].isnull(), \"Fare\"] = median_fare_pclass_3\n",
    "\n",
    "print(ticket[[\"PassengerId\", \"Fare\"]])"
   ]
  },
  {
   "cell_type": "code",
   "execution_count": 119,
   "metadata": {},
   "outputs": [
    {
     "data": {
      "image/png": "[encoded data removed]",
      "text/plain": [
       "<Figure size 1000x600 with 1 Axes>"
      ]
     },
     "metadata": {},
     "output_type": "display_data"
    }
   ],
   "source": [
    "# Создание гистограммы\n",
    "plt.figure(figsize=(10, 6))\n",
    "plt.hist([train[train['Survived'] == 1]['Fare'], train[train['Survived'] == 0]['Fare']], \n",
    "         bins=20, stacked=True, color=['g','r'], label=['Survived','Dead'])\n",
    "\n",
    "# Настройка графика\n",
    "plt.xlabel('Fare')\n",
    "plt.ylabel('Number of Passengers')\n",
    "plt.title('Survival by Fare')\n",
    "plt.legend()\n",
    "\n",
    "# Отображение гистограммы\n",
    "plt.show()"
   ]
  },
  {
   "cell_type": "code",
   "execution_count": 120,
   "metadata": {},
   "outputs": [
    {
     "name": "stdout",
     "output_type": "stream",
     "text": [
      "      Fare  PersonsInTicket      Cost\n",
      "0   7.2500                1   7.25000\n",
      "1  71.2833                2  35.64165\n",
      "2   7.9250                1   7.92500\n",
      "3  53.1000                2  26.55000\n",
      "4   8.0500                1   8.05000\n"
     ]
    }
   ],
   "source": [
    "# Расчет стоимости на одного человека\n",
    "persons_in_ticket = data.groupby(\"Ticket\").size()\n",
    "data[\"PersonsInTicket\"] = data[\"Ticket\"].map(persons_in_ticket)\n",
    "data[\"Cost\"] = data[\"Fare\"] / data[\"PersonsInTicket\"]\n",
    "\n",
    "pd.set_option('display.max_colwidth', None)  # максимальная ширина колонки\n",
    "print(data[[ \"Fare\", \"PersonsInTicket\", \"Cost\"]].head())"
   ]
  },
  {
   "cell_type": "code",
   "execution_count": 121,
   "metadata": {},
   "outputs": [
    {
     "name": "stdout",
     "output_type": "stream",
     "text": [
      "  CategoricalFare  Survived PassengerCount\n",
      "0   (-0.001, 8.0]  0.201365            293\n",
      "1     (8.0, 14.0]  0.335366            164\n",
      "2    (14.0, 31.0]  0.457399            223\n",
      "3   (31.0, 512.0]  0.597156            211\n"
     ]
    }
   ],
   "source": [
    "# Делим значения признака CategoricalFare на 4 диаппазона\n",
    "# Округляем значения столбца Cost до целого числа\n",
    "data[\"Fare\"] = data[\"Fare\"].round().astype(int)\n",
    "data[\"CategoricalFare\"] = pd.qcut(data[\"Fare\"], 4)\n",
    "\n",
    "# Разделяем данные на обучающий и тестовый наборы\n",
    "train = data.iloc[:891].reset_index(drop=True)\n",
    "test = data.iloc[891:].reset_index(drop=True)\n",
    "\n",
    "# Количество пассажиров в каждом диапазоне возраста\n",
    "age_passenger_count = train[\"CategoricalFare\"].value_counts()\n",
    "\n",
    "# Корреляция CategoricalAge и Survived\n",
    "correlation = train[[\"CategoricalFare\", \"Survived\"]].groupby([\"CategoricalFare\"], as_index=False).mean()\n",
    "\n",
    "# Добавление количества пассажиров в каждом диапазоне возраста\n",
    "correlation[\"PassengerCount\"] = correlation[\"CategoricalFare\"].map(age_passenger_count)\n",
    "\n",
    "pd.set_option('display.max_colwidth', None)  # максимальная ширина колонки\n",
    "print(correlation)"
   ]
  },
  {
   "cell_type": "code",
   "execution_count": 122,
   "metadata": {},
   "outputs": [
    {
     "name": "stdout",
     "output_type": "stream",
     "text": [
      "  CategoricalCost  Survived PassengerCount\n",
      "0   (-0.001, 8.0]  0.257511            466\n",
      "1     (8.0, 13.0]  0.400000            195\n",
      "2   (13.0, 128.0]  0.626087            230\n"
     ]
    }
   ],
   "source": [
    "# Делим значения признака CategoricalCost на диапазоны\n",
    "# Округляем значения столбца Cost до целого числа\n",
    "data[\"Cost\"] = data[\"Cost\"].round().astype(int)\n",
    "\n",
    "data[\"CategoricalCost\"] = pd.qcut(data[\"Cost\"], 3, duplicates='drop')\n",
    "\n",
    "# Разделяем данные на обучающий и тестовый наборы\n",
    "train = data.iloc[:891].reset_index(drop=True)\n",
    "test = data.iloc[891:].reset_index(drop=True)\n",
    "\n",
    "# Количество пассажиров в каждом диапазоне возраста\n",
    "age_passenger_count = train[\"CategoricalCost\"].value_counts()\n",
    "\n",
    "# Корреляция CategoricalAge и Survived\n",
    "correlation = train[[\"CategoricalCost\", \"Survived\"]].groupby([\"CategoricalCost\"], as_index=False).mean()\n",
    "\n",
    "# Добавление количества пассажиров в каждом диапазоне возраста\n",
    "correlation[\"PassengerCount\"] = correlation[\"CategoricalCost\"].map(age_passenger_count)\n",
    "\n",
    "pd.set_option('display.max_colwidth', None)  # максимальная ширина колонки\n",
    "print(correlation)"
   ]
  },
  {
   "cell_type": "code",
   "execution_count": 123,
   "metadata": {},
   "outputs": [
    {
     "data": {
      "text/plain": [
       "'data = pd.concat((train, test), ignore_index=True)\\nunique_cost_count = data[\"Cost\"].nunique()\\nprint(\"Количество уникальных значений в столбце Cost:\", unique_cost_count)'"
      ]
     },
     "execution_count": 123,
     "metadata": {},
     "output_type": "execute_result"
    }
   ],
   "source": [
    "'''data = pd.concat((train, test), ignore_index=True)\n",
    "unique_cost_count = data[\"Cost\"].nunique()\n",
    "print(\"Количество уникальных значений в столбце Cost:\", unique_cost_count)'''"
   ]
  },
  {
   "cell_type": "code",
   "execution_count": 124,
   "metadata": {},
   "outputs": [
    {
     "name": "stdout",
     "output_type": "stream",
     "text": [
      "count    1309.000000\n",
      "mean       14.786096\n",
      "std        13.575762\n",
      "min         0.000000\n",
      "25%         8.000000\n",
      "50%         8.000000\n",
      "75%        15.000000\n",
      "max       128.000000\n",
      "Name: Cost, dtype: float64\n"
     ]
    }
   ],
   "source": [
    "# Распределение числовых значений признака Cost\n",
    "print(data[\"Cost\"].describe())"
   ]
  },
  {
   "cell_type": "markdown",
   "metadata": {},
   "source": [
    "<link rel=\"stylesheet\" type=\"text/css\" href=\"styles/styles.css\">\n",
    "\n",
    "### 3.6. SibSp и Parch (число сопутствующих пассажиров и родителей/детей на борту Титаника)\n",
    "\n",
    "Сами по себе эти признаки врятли могут как-то прямо влиять на выживаемость, поэтому мы можем попробовать создать на их основе новый признак IsAlone которой будет показывать путешествовал ли пассажир один или нет (речт идет о семье и детях). Возможно выживаемость как-то зависит от того был ли пассажир один или с семьей. В дальнейшем мы сможем оценить полезность этого признака и принять решение о его использовании или удалении.\n"
   ]
  },
  {
   "cell_type": "code",
   "execution_count": 125,
   "metadata": {},
   "outputs": [
    {
     "name": "stdout",
     "output_type": "stream",
     "text": [
      "   IsAlone  Survived\n",
      "0        0  0.505650\n",
      "1        1  0.303538\n"
     ]
    }
   ],
   "source": [
    "# Создание признака IsAlone\n",
    "data[\"FamilySize\"] = data[\"SibSp\"] + data[\"Parch\"] + 1\n",
    "\n",
    "# Разделяем данные на обучающий и тестовый наборы\n",
    "train = data.iloc[:891].reset_index(drop=True)\n",
    "test = data.iloc[891:].reset_index(drop=True)\n",
    "\n",
    "data[\"IsAlone\"] = 0\n",
    "data.loc[data[\"FamilySize\"] == 1, \"IsAlone\"] = 1\n",
    "\n",
    "# Разделяем данные на обучающий и тестовый наборы\n",
    "train = data.iloc[:891].reset_index(drop=True)\n",
    "test = data.iloc[891:].reset_index(drop=True)\n",
    "(train, test) = (train, test)\n",
    "    \n",
    "# Корреляция IsAlone и Survived\n",
    "print(train[[\"IsAlone\", \"Survived\"]].groupby([\"IsAlone\"], as_index=False).mean())"
   ]
  },
  {
   "cell_type": "markdown",
   "metadata": {},
   "source": [
    "<link rel=\"stylesheet\" type=\"text/css\" href=\"styles/styles.css\">\n",
    "\n",
    "### 3.7. Embarked (порт посадки)\n",
    "\n",
    "На первый взгляд признак не должен как-то существенно влиять на выживаемость. Заполним его отсутствующие значения и посмторим какое соотношение выживних в групаах с разной посадкой на судно."
   ]
  },
  {
   "cell_type": "code",
   "execution_count": 126,
   "metadata": {},
   "outputs": [
    {
     "name": "stdout",
     "output_type": "stream",
     "text": [
      "     PassengerId Embarked\n",
      "61            62      NaN\n",
      "829          830      NaN\n"
     ]
    }
   ],
   "source": [
    "# Пассажиры у которых отсутствуют значения Embarked\n",
    "missing_embarked = data[data[\"Embarked\"].isnull()]\n",
    "print(missing_embarked[[\"PassengerId\", \"Embarked\"]])"
   ]
  },
  {
   "cell_type": "markdown",
   "metadata": {},
   "source": [
    "<link rel=\"stylesheet\" type=\"text/css\" href=\"styles/styles.css\">\n",
    "\n",
    "Пассажиров у которых отсутствуют значения Embarked всего два, поэтому не будем глубоко анализировать этот признак а просто заполним наиболее встречающимся значением."
   ]
  },
  {
   "cell_type": "code",
   "execution_count": 127,
   "metadata": {},
   "outputs": [
    {
     "name": "stdout",
     "output_type": "stream",
     "text": [
      "  Embarked  Survived\n",
      "0        C  0.553571\n",
      "1        Q  0.389610\n",
      "2        S  0.339009\n"
     ]
    }
   ],
   "source": [
    "# Заполняем отсутствующие значения Embarked\n",
    "data[\"Embarked\"] = data[\"Embarked\"].fillna(\"S\")\n",
    "\n",
    "# Разделяем данные на обучающий и тестовый наборы\n",
    "train = data.iloc[:891].reset_index(drop=True)\n",
    "test = data.iloc[891:].reset_index(drop=True)\n",
    "(train, test) = (train, test)\n",
    "\n",
    "# Корреляция Embarked и Survived\n",
    "print(train[[\"Embarked\", \"Survived\"]].groupby([\"Embarked\"], as_index=False).mean())"
   ]
  },
  {
   "cell_type": "code",
   "execution_count": 128,
   "metadata": {},
   "outputs": [
    {
     "name": "stdout",
     "output_type": "stream",
     "text": [
      "<class 'pandas.core.frame.DataFrame'>\n",
      "RangeIndex: 1309 entries, 0 to 1308\n",
      "Data columns (total 19 columns):\n",
      " #   Column           Non-Null Count  Dtype   \n",
      "---  ------           --------------  -----   \n",
      " 0   PassengerId      1309 non-null   int64   \n",
      " 1   Survived         1309 non-null   int64   \n",
      " 2   Pclass           1309 non-null   int64   \n",
      " 3   Sex              1309 non-null   object  \n",
      " 4   Age              1309 non-null   int32   \n",
      " 5   SibSp            1309 non-null   int64   \n",
      " 6   Parch            1309 non-null   int64   \n",
      " 7   Ticket           1309 non-null   object  \n",
      " 8   Fare             1309 non-null   int32   \n",
      " 9   Embarked         1309 non-null   object  \n",
      " 10  FamilyName       1309 non-null   object  \n",
      " 11  Title            1309 non-null   object  \n",
      " 12  CategoricalAge   1309 non-null   category\n",
      " 13  PersonsInTicket  1309 non-null   int64   \n",
      " 14  Cost             1309 non-null   int32   \n",
      " 15  CategoricalFare  1309 non-null   category\n",
      " 16  CategoricalCost  1309 non-null   category\n",
      " 17  FamilySize       1309 non-null   int64   \n",
      " 18  IsAlone          1309 non-null   int64   \n",
      "dtypes: category(3), int32(3), int64(8), object(5)\n",
      "memory usage: 152.9+ KB\n",
      "None\n"
     ]
    }
   ],
   "source": [
    "# Информация о полном наборе данных\n",
    "print(data.info())"
   ]
  },
  {
   "cell_type": "code",
   "execution_count": 129,
   "metadata": {},
   "outputs": [
    {
     "name": "stdout",
     "output_type": "stream",
     "text": [
      "   Survived  Pclass     Sex  Age  Fare Embarked Title CategoricalAge  Cost CategoricalFare CategoricalCost  IsAlone\n",
      "0         0       3    male   22     7        S    Mr   [16.0, 32.0)     7   (-0.001, 8.0]   (-0.001, 8.0]        0\n",
      "1         1       1  female   38    71        C   Mrs   [32.0, 48.0)    36   (31.0, 512.0]   (13.0, 128.0]        0\n",
      "2         1       3  female   26     8        S  Miss   [16.0, 32.0)     8   (-0.001, 8.0]   (-0.001, 8.0]        1\n",
      "3         1       1  female   35    53        S   Mrs   [32.0, 48.0)    27   (31.0, 512.0]   (13.0, 128.0]        0\n",
      "4         0       3    male   35     8        S    Mr   [32.0, 48.0)     8   (-0.001, 8.0]   (-0.001, 8.0]        1\n"
     ]
    }
   ],
   "source": [
    "# Удалеение ненужных признаков\n",
    "# Список признаков для удаления котрые использовалить в процессе анализа данных и более не требуются\n",
    "drop_elements = [\"PassengerId\", \"FamilyName\", \"Ticket\", \"Parch\", \"SibSp\", \"FamilySize\", \"PersonsInTicket\"]\n",
    "\n",
    "# Удалеение признаков\n",
    "data = data.drop(drop_elements, axis = 1)\n",
    "\n",
    "print(data.head())"
   ]
  },
  {
   "cell_type": "code",
   "execution_count": 130,
   "metadata": {},
   "outputs": [],
   "source": [
    "# Преобразовываем значения признаков в числа\n",
    "# Преобразовываем значения признака Sex в 0 и 1\n",
    "sex_mapping = {\"female\": 1, \"male\": 0}\n",
    "data[\"Sex\"] = data[\"Sex\"].map(sex_mapping).astype(int)\n",
    "\n",
    "# Преобразовываем значения признака Title в 0 и 1\n",
    "title_mapping = {\"Mr\": 1, \"Miss\": 2, \"Young Miss\": 3, \"Mrs\": 4, \"Master\": 5, \"Rev\": 6}\n",
    "data[\"Title\"] = data[\"Title\"].map(title_mapping).astype(int)\n",
    "\n",
    "# Преобразовываем значения признака Embarked в 0, 1 и 2\n",
    "embarked_mapping = {'S': 1, 'C': 2, 'Q': 3}\n",
    "data[\"Embarked\"] = data[\"Embarked\"].map(embarked_mapping).astype(int)\n",
    "\n",
    "# Замена категориальных значений на числовые коды\n",
    "data[\"Age\"] = data[\"CategoricalAge\"].cat.codes + 1\n",
    "\n",
    "# Замена категориальных значений на числовые коды\n",
    "data[\"Cost\"] = data[\"CategoricalCost\"].cat.codes + 1\n",
    "\n",
    "# Замена категориальных значений на числовые коды\n",
    "data[\"Fare\"] = data[\"CategoricalFare\"].cat.codes + 1\n",
    "\n",
    "# Удалеение признаков котрые использовалить в процессе анализа данных и более не требуются\n",
    "data = data.drop([\"CategoricalAge\", \"CategoricalFare\", \"CategoricalCost\"], axis = 1)"
   ]
  },
  {
   "cell_type": "markdown",
   "metadata": {},
   "source": [
    "<link rel=\"stylesheet\" type=\"text/css\" href=\"styles/styles.css\">\n",
    "\n",
    "### Результаты обработки, подготовки и очиски наших данных\n",
    "\n",
    "В результате проведенного нами анализа и подготовки данных мы получили набор данных на котором мы можем провести тренироку наших моделей для предсказания."
   ]
  },
  {
   "cell_type": "code",
   "execution_count": 131,
   "metadata": {},
   "outputs": [
    {
     "name": "stdout",
     "output_type": "stream",
     "text": [
      "      Survived  Pclass  Sex  Age  Fare  Embarked  Title  Cost  IsAlone\n",
      "0            0       3    0    2     1         1      1     1        0\n",
      "1            1       1    1    3     4         2      4     3        0\n",
      "2            1       3    1    2     1         1      2     1        1\n",
      "3            1       1    1    3     4         1      4     3        0\n",
      "4            0       3    0    3     1         1      1     1        1\n",
      "...        ...     ...  ...  ...   ...       ...    ...   ...      ...\n",
      "1304         0       3    0    3     1         1      1     1        1\n",
      "1305         1       1    1    3     4         2      4     3        1\n",
      "1306         0       3    0    3     1         1      1     1        1\n",
      "1307         0       3    0    2     1         1      1     1        1\n",
      "1308         1       3    0    1     3         2      5     1        0\n",
      "\n",
      "[1309 rows x 9 columns]\n"
     ]
    }
   ],
   "source": [
    "# Подготовленный полный набор данных\n",
    "print(data)"
   ]
  },
  {
   "cell_type": "markdown",
   "metadata": {},
   "source": [
    "<link rel=\"stylesheet\" type=\"text/css\" href=\"styles/styles.css\">\n",
    "\n",
    "И хотя на первый взгляд некоторые существующие и созданные нами новые признаки должны были положительно повлиять на результат предсказания, но в процессе тестирования было выявлено отрицательное влияние этих признаков на качество и точность результата. Поэтому было принято решение удалить и их тоже."
   ]
  },
  {
   "cell_type": "code",
   "execution_count": 132,
   "metadata": {},
   "outputs": [],
   "source": [
    "# Удаление признаков которые негативно отразились на результатах предсказания\n",
    "data = data.drop([\"IsAlone\", \"Sex\", \"Age\", \"Fare\"], axis = 1)"
   ]
  },
  {
   "cell_type": "code",
   "execution_count": 133,
   "metadata": {},
   "outputs": [
    {
     "name": "stdout",
     "output_type": "stream",
     "text": [
      "   Survived  Pclass  Embarked  Title  Cost\n",
      "0         0       3         1      1     1\n",
      "1         1       1         2      4     3\n",
      "2         1       3         1      2     1\n",
      "3         1       1         1      4     3\n",
      "4         0       3         1      1     1\n"
     ]
    }
   ],
   "source": [
    "# Окончательный набор данных для обучения\n",
    "print(data.head())"
   ]
  },
  {
   "cell_type": "markdown",
   "metadata": {},
   "source": [
    "<link rel=\"stylesheet\" type=\"text/css\" href=\"styles/styles.css\">\n",
    "\n",
    "Итак мы завершили этап Feature Engineering и можем приступать к тестированию различных классификаторов. "
   ]
  },
  {
   "cell_type": "markdown",
   "metadata": {},
   "source": [
    "<link rel=\"stylesheet\" type=\"text/css\" href=\"styles/styles.css\">\n",
    "\n",
    "## 4. Моделирование и сравнение классификаторов (Classifier Comparison)\n",
    "\n",
    "Итак наши данные проанализированиы, отредактированы, очищены и подготовлены для тренировки модели. Протестируем различные классификаторы на нашем тренировочном наборе данных. Затем выберем несколько наилучших моделей и проведем тесты уже на тестовых данных (эти данные модель не видела в процессе обучения)."
   ]
  },
  {
   "cell_type": "code",
   "execution_count": 134,
   "metadata": {},
   "outputs": [],
   "source": [
    "# Разделяем данные на обучающий и тестовый наборы\n",
    "train = data.iloc[:891].reset_index(drop=True)\n",
    "test = data.iloc[891:].reset_index(drop=True)"
   ]
  },
  {
   "cell_type": "code",
   "execution_count": 135,
   "metadata": {},
   "outputs": [],
   "source": [
    "# Импорт библиотек для машинного обучения\n",
    "from sklearn.model_selection import cross_val_score\n",
    "from sklearn.neighbors import KNeighborsClassifier\n",
    "from sklearn.svm import SVC\n",
    "from sklearn.tree import DecisionTreeClassifier\n",
    "from sklearn.ensemble import RandomForestClassifier, AdaBoostClassifier, GradientBoostingClassifier\n",
    "from sklearn.naive_bayes import GaussianNB\n",
    "from sklearn.discriminant_analysis import LinearDiscriminantAnalysis, QuadraticDiscriminantAnalysis\n",
    "from sklearn.linear_model import LogisticRegression\n",
    "from sklearn.metrics import precision_score, accuracy_score"
   ]
  },
  {
   "cell_type": "code",
   "execution_count": 136,
   "metadata": {},
   "outputs": [],
   "source": [
    "# Сравнение классификаторов\n",
    "classifiers = [\n",
    "    KNeighborsClassifier(3),\n",
    "    SVC(probability=True),\n",
    "    DecisionTreeClassifier(),\n",
    "    RandomForestClassifier(),\n",
    "    AdaBoostClassifier(),\n",
    "    GradientBoostingClassifier(),\n",
    "    GaussianNB(),\n",
    "    LinearDiscriminantAnalysis(),\n",
    "    QuadraticDiscriminantAnalysis(),\n",
    "    LogisticRegression()\n",
    "]\n",
    "\n",
    "# Создание DataFrame для хранения результатов\n",
    "log_cols = [\"Classifier\", \"Accuracy\", \"Precision\"]\n",
    "log = pd.DataFrame(columns=log_cols)\n",
    "\n",
    "# Определение тренировочной выборки X и вектора целевых значений y\n",
    "X_train = train.drop(\"Survived\", axis=1)  # удаляем столбец Survived из тренировочных данных\n",
    "y_train = train[\"Survived\"]  # используем столбец \"Survived\" как вектор целевых значений\n",
    "\n",
    "# Итерация по классификаторам и оценка их точности с использованием cross_val_score\n",
    "for clf in classifiers:\n",
    "    name = clf.__class__.__name__\n",
    "    accuracy = cross_val_score(clf, X_train, y_train, cv=10, scoring='accuracy').mean()\n",
    "    precision = cross_val_score(clf, X_train, y_train, cv=10, scoring='precision').mean()\n",
    "    log_entry = pd.DataFrame([[name, accuracy, precision]], columns=log_cols)\n",
    "    log = pd.concat([log, log_entry], ignore_index=True)"
   ]
  },
  {
   "cell_type": "code",
   "execution_count": 137,
   "metadata": {},
   "outputs": [
    {
     "data": {
      "image/png": "[encoded data removed]",
      "text/plain": [
       "<Figure size 1000x250 with 1 Axes>"
      ]
     },
     "metadata": {},
     "output_type": "display_data"
    },
    {
     "data": {
      "image/png": "[encoded data removed]",
      "text/plain": [
       "<Figure size 1000x250 with 1 Axes>"
      ]
     },
     "metadata": {},
     "output_type": "display_data"
    }
   ],
   "source": [
    "# Cтолбчатая диаграмма точности классификаторов\n",
    "plt.figure(figsize=(10, 2.5))\n",
    "sns.barplot(x='Accuracy', y='Classifier', data=log, color=\"lightblue\", linewidth=1)  # Установка толщины линий столбцов\n",
    "plt.xlabel('Accuracy')\n",
    "plt.ylabel('Classifier')\n",
    "plt.title('Classifier Accuracy on Train Data')\n",
    "\n",
    "# Добавляем значения точности в каждый столбец\n",
    "for index, value in enumerate(log['Accuracy']):\n",
    "    plt.text(value, index + 0.25, str(round(value, 2)))\n",
    "    \n",
    "# Построение столбчатой диаграммы точности классификаторов\n",
    "plt.figure(figsize=(10, 2.5))\n",
    "sns.barplot(x='Precision', y='Classifier', data=log, color=\"lightgreen\")\n",
    "plt.xlabel('Precision')\n",
    "plt.ylabel('Classifier')\n",
    "plt.title('Classifier Precision on Train Data')\n",
    "\n",
    "# Добавляем значения точности в каждый столбец\n",
    "for index, value in enumerate(log['Precision']):\n",
    "    plt.text(value, index + 0.25, str(round(value, 2)))\n",
    "    \n",
    "plt.show()"
   ]
  },
  {
   "cell_type": "code",
   "execution_count": 138,
   "metadata": {},
   "outputs": [],
   "source": [
    "# Импорт библиотеки для поиска параметров тренировки\n",
    "from sklearn.model_selection import GridSearchCV"
   ]
  },
  {
   "cell_type": "code",
   "execution_count": 139,
   "metadata": {},
   "outputs": [],
   "source": [
    "# Подготовка тестового набора данных\n",
    "X_test = test.drop(\"Survived\", axis=1)  # удаляем целевую переменную из тестового набора данных\n",
    "y_test = test[\"Survived\"]               # сохраняем целевую переменную тестового набора данных"
   ]
  },
  {
   "cell_type": "code",
   "execution_count": 140,
   "metadata": {},
   "outputs": [
    {
     "data": {
      "text/plain": [
       "'# Тест модели с тюнингом\\n# Сетка параметров для поиска\\nparam_grid = {\\n    \\'C\\': [0.1, 1, 10, 100], \\n    \\'kernel\\': [\\'linear\\', \\'poly\\', \\'rbf\\', \\'sigmoid\\'], \\n    \\'gamma\\': [\\'scale\\', \\'auto\\']\\n}\\n\\n# Создание экземпляра GridSearchCV для поиска оптимальных параметров\\ngrid_search = GridSearchCV(SVC(), param_grid, cv=10, scoring=\\'accuracy\\')\\n\\n# Обучение модели\\ngrid_search.fit(X_train, y_train)\\n\\n# Получение наилучших параметров\\nbest_params = grid_search.best_params_\\nprint(\"Наилучшие найденные параметры:\", best_params)\\n\\n# Получение наилучшей модели\\nbest_model = grid_search.best_estimator_\\n\\n# Предсказание результатов на тестовых данных\\ny_pred = best_model.predict(X_test)\\nprecision = precision_score(y_test, y_pred)\\naccuracy = accuracy_score(y_test, y_pred)\\nprint(\"Точность (Precision):\", round(precision, 2))\\nprint(\"Доля правильных ответов (Accuracy):\", round(accuracy, 2))'"
      ]
     },
     "execution_count": 140,
     "metadata": {},
     "output_type": "execute_result"
    }
   ],
   "source": [
    "'''# Тест модели с тюнингом\n",
    "# Сетка параметров для поиска\n",
    "param_grid = {\n",
    "    'C': [0.1, 1, 10, 100], \n",
    "    'kernel': ['linear', 'poly', 'rbf', 'sigmoid'], \n",
    "    'gamma': ['scale', 'auto']\n",
    "}\n",
    "\n",
    "# Создание экземпляра GridSearchCV для поиска оптимальных параметров\n",
    "grid_search = GridSearchCV(SVC(), param_grid, cv=10, scoring='accuracy')\n",
    "\n",
    "# Обучение модели\n",
    "grid_search.fit(X_train, y_train)\n",
    "\n",
    "# Получение наилучших параметров\n",
    "best_params = grid_search.best_params_\n",
    "print(\"Наилучшие найденные параметры:\", best_params)\n",
    "\n",
    "# Получение наилучшей модели\n",
    "best_model = grid_search.best_estimator_\n",
    "\n",
    "# Предсказание результатов на тестовых данных\n",
    "y_pred = best_model.predict(X_test)\n",
    "precision = precision_score(y_test, y_pred)\n",
    "accuracy = accuracy_score(y_test, y_pred)\n",
    "print(\"Точность (Precision):\", round(precision, 2))\n",
    "print(\"Доля правильных ответов (Accuracy):\", round(accuracy, 2))'''"
   ]
  },
  {
   "cell_type": "code",
   "execution_count": 141,
   "metadata": {},
   "outputs": [
    {
     "name": "stdout",
     "output_type": "stream",
     "text": [
      "Наилучшие найденные параметры: {'criterion': 'gini', 'max_depth': 5, 'min_samples_leaf': 4, 'min_samples_split': 2}\n",
      "Точность (Precision): 0.8\n",
      "Доля правильных ответов (Accuracy): 0.79\n"
     ]
    }
   ],
   "source": [
    "# Тест DecisionTreeClassifier с тюнингом\n",
    "# Сетка параметров для поиска\n",
    "param_grid = {\n",
    "    'criterion': ['gini', 'entropy'],\n",
    "    'max_depth': [None, 5, 10, 15],\n",
    "    'min_samples_split': [2, 5, 10],\n",
    "    'min_samples_leaf': [1, 2, 4]\n",
    "}\n",
    "\n",
    "# Создание экземпляра GridSearchCV для поиска оптимальных параметров\n",
    "grid_search = GridSearchCV(DecisionTreeClassifier(), param_grid, cv=10, scoring='accuracy')\n",
    "\n",
    "# Обучение модели\n",
    "grid_search.fit(X_train, y_train)\n",
    "\n",
    "# Получение наилучших параметров\n",
    "best_params = grid_search.best_params_\n",
    "print(\"Наилучшие найденные параметры:\", best_params)\n",
    "\n",
    "# Получение наилучшей модели\n",
    "best_model = grid_search.best_estimator_\n",
    "\n",
    "# Предсказание результатов на тестовых данных\n",
    "y_pred = best_model.predict(X_test)\n",
    "precision = precision_score(y_test, y_pred)\n",
    "accuracy = accuracy_score(y_test, y_pred)\n",
    "print(\"Точность (Precision):\", round(precision, 2))\n",
    "print(\"Доля правильных ответов (Accuracy):\", round(accuracy, 2))"
   ]
  },
  {
   "cell_type": "code",
   "execution_count": 142,
   "metadata": {},
   "outputs": [
    {
     "name": "stdout",
     "output_type": "stream",
     "text": [
      "Наилучшие найденные параметры: {'learning_rate': 0.05, 'max_depth': 5, 'n_estimators': 100}\n",
      "Точность (Precision): 0.8\n",
      "Доля правильных ответов (Accuracy): 0.79\n"
     ]
    }
   ],
   "source": [
    "# Тест GradientBoostingClassifier с тюнингом\n",
    "# Сетка параметров для поиска\n",
    "param_grid = {\n",
    "    'learning_rate': [0.05, 0.1, 0.5],\n",
    "    'n_estimators': [50, 100, 200],\n",
    "    'max_depth': [3, 4, 5]\n",
    "}\n",
    "\n",
    "# Создание экземпляра GridSearchCV для поиска оптимальных параметров\n",
    "grid_search = GridSearchCV(GradientBoostingClassifier(), param_grid, cv=10, scoring='accuracy')\n",
    "\n",
    "# Обучение модели\n",
    "grid_search.fit(X_train, y_train)\n",
    "\n",
    "# Получение наилучших параметров\n",
    "best_params = grid_search.best_params_\n",
    "print(\"Наилучшие найденные параметры:\", best_params)\n",
    "\n",
    "# Получение наилучшей модели\n",
    "best_model = grid_search.best_estimator_\n",
    "\n",
    "# Предсказание результатов на тестовых данных\n",
    "y_pred = best_model.predict(X_test)\n",
    "precision = precision_score(y_test, y_pred)\n",
    "accuracy = accuracy_score(y_test, y_pred)\n",
    "print(\"Точность (Precision):\", round(precision, 2))\n",
    "print(\"Доля правильных ответов (Accuracy):\", round(accuracy, 2))"
   ]
  }
 ],
 "metadata": {
  "kernelspec": {
   "display_name": "Python 3",
   "language": "python",
   "name": "python3"
  },
  "language_info": {
   "codemirror_mode": {
    "name": "ipython",
    "version": 3
   },
   "file_extension": ".py",
   "mimetype": "text/x-python",
   "name": "python",
   "nbconvert_exporter": "python",
   "pygments_lexer": "ipython3",
   "version": "3.11.2"
  }
 },
 "nbformat": 4,
 "nbformat_minor": 2
}
